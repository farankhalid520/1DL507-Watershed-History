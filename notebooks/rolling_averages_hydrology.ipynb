{
  "nbformat": 4,
  "nbformat_minor": 0,
  "metadata": {
    "colab": {
      "provenance": []
    },
    "kernelspec": {
      "name": "python3",
      "display_name": "Python 3"
    },
    "language_info": {
      "name": "python"
    }
  },
  "cells": [
    {
      "cell_type": "markdown",
      "source": [
        "# Rolling Averages (Waterflow)\n",
        "\n",
        "**Author:** Muhammad Faran Khalid\n",
        "\n",
        "In this notebook I calculate the 7-day and 30-day rolling averages for 'Total Waterflow' and 'Local Waterflow' for the SMHI hydrology dataset of lakes."
      ],
      "metadata": {
        "id": "uNUn3R-KijqS"
      }
    },
    {
      "cell_type": "code",
      "execution_count": null,
      "metadata": {
        "id": "FnhoQLHWcHPq"
      },
      "outputs": [],
      "source": [
        "# imports\n",
        "import pandas as pd"
      ]
    },
    {
      "cell_type": "code",
      "source": [
        "def process_dygnsvarden_sheet(excel_file_path, md_mvm_id, output_folder):\n",
        "    # Loading the Dygnsvärden sheet from SMHI hydrology file\n",
        "    dygnsvarden_sheet = pd.read_excel(excel_file_path, sheet_name='Dygnsvärden', header=2)\n",
        "\n",
        "    # Formatting sheet\n",
        "    dygnsvarden_sheet.rename(columns={dygnsvarden_sheet.columns[0]: 'Date'}, inplace=True)\n",
        "\n",
        "    # Calculating 7-day and 30-day rolling averages\n",
        "    dygnsvarden_sheet['7-day Avg Total Vattenföring'] = dygnsvarden_sheet['Total\\nvattenföring\\n[m³/s]'].rolling(window=7).mean()\n",
        "    dygnsvarden_sheet['30-day Avg Total Vattenföring'] = dygnsvarden_sheet['Total\\nvattenföring\\n[m³/s]'].rolling(window=30).mean()\n",
        "    dygnsvarden_sheet['7-day Avg Lokal Vattenföring'] = dygnsvarden_sheet['Lokal\\nvattenföring\\n[m³/s]'].rolling(window=7).mean()\n",
        "    dygnsvarden_sheet['30-day Avg Lokal Vattenföring'] = dygnsvarden_sheet['Lokal\\nvattenföring\\n[m³/s]'].rolling(window=30).mean()\n",
        "\n",
        "    # Adding MD-MVM Id (unique identifier)\n",
        "    dygnsvarden_sheet['MD-MVM Id'] = md_mvm_id\n",
        "\n",
        "    output_file_path = f\"{output_folder}/{md_mvm_id}.csv\"\n",
        "    dygnsvarden_sheet.to_csv(output_file_path, index=False)\n",
        "\n",
        "    return output_file_path"
      ],
      "metadata": {
        "id": "enq5dR2wdGaY"
      },
      "execution_count": null,
      "outputs": []
    },
    {
      "cell_type": "code",
      "source": [
        "excel_file_path = '/content/...' # SMHI hydrology data file\n",
        "md_mvm_id = 106 # MD-MVM Id value for specific station\n",
        "output_folder = '/content/drive/...' # output folder path"
      ],
      "metadata": {
        "id": "f5bKXkkcdLWh"
      },
      "execution_count": null,
      "outputs": []
    },
    {
      "cell_type": "code",
      "source": [
        "output_file = process_dygnsvarden_sheet(excel_file_path, md_mvm_id, output_folder)"
      ],
      "metadata": {
        "colab": {
          "base_uri": "https://localhost:8080/"
        },
        "id": "kI_-5Kk8dRy6",
        "outputId": "056f5b58-e0cb-471e-8a00-d58e9270db27"
      },
      "execution_count": null,
      "outputs": [
        {
          "output_type": "stream",
          "name": "stdout",
          "text": [
            "Updated CSV file saved at: /content/drive/MyDrive/Rolling Averages/106.csv\n"
          ]
        }
      ]
    }
  ]
}