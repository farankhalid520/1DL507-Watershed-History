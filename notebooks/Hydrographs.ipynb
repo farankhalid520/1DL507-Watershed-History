{
  "nbformat": 4,
  "nbformat_minor": 0,
  "metadata": {
    "colab": {
      "provenance": []
    },
    "kernelspec": {
      "name": "python3",
      "display_name": "Python 3"
    },
    "language_info": {
      "name": "python"
    }
  },
  "cells": [
    {
      "cell_type": "code",
      "execution_count": 1,
      "metadata": {
        "id": "l_MXIuCDiTHD"
      },
      "outputs": [],
      "source": [
        "#Script by: Muhammad Faran Khalid\n",
        "import os\n",
        "import pandas as pd\n",
        "import matplotlib.pyplot as plt\n",
        "import matplotlib.dates as mdates"
      ]
    },
    {
      "cell_type": "code",
      "source": [
        "def create_hydrograph(data, year, md_mvm_id, save_directory):\n",
        "    \"\"\"\n",
        "    Function to create and save a hydrograph for a specific year.\n",
        "    \"\"\"\n",
        "    # Filtering data for the specific year\n",
        "    yearly_data = data[data['Date'].dt.year == year]\n",
        "\n",
        "    # Checking data for the year is present\n",
        "    if not yearly_data.empty:\n",
        "        # Plotting the hydrograph\n",
        "        plt.figure(figsize=(12, 6))\n",
        "        plt.plot(yearly_data['Date'], yearly_data['Total\\nvattenföring\\n[m³/s]'], label='Total Water Flow (m³/s)')\n",
        "        plt.xlabel('Months')\n",
        "        plt.ylabel('Total Water Flow (m³/s)')\n",
        "        plt.title(f\"{md_mvm_id} - {year}\")\n",
        "\n",
        "        # Formatting the x-axis to show month names\n",
        "        plt.gca().xaxis.set_major_locator(mdates.MonthLocator())\n",
        "        plt.gca().xaxis.set_major_formatter(mdates.DateFormatter('%b'))\n",
        "\n",
        "        plt.xticks(rotation=45)\n",
        "        plt.grid(True)\n",
        "        plt.legend()\n",
        "        plt.tight_layout()\n",
        "\n",
        "        # Saving the hydrograph\n",
        "        plt.savefig(os.path.join(save_directory, f\"{md_mvm_id}_{year}.png\"))\n",
        "        plt.close()"
      ],
      "metadata": {
        "id": "5z0sA9cdidcl"
      },
      "execution_count": 2,
      "outputs": []
    },
    {
      "cell_type": "code",
      "source": [
        "def process_folder(input_folder_path, output_folder_path):\n",
        "    \"\"\"\n",
        "    Function to process all CSV files in the given folder for years 2010 to 2022.\n",
        "    \"\"\"\n",
        "    for file in os.listdir(input_folder_path):\n",
        "        if file.endswith('.csv'):\n",
        "            file_path = os.path.join(input_folder_path, file)\n",
        "            data = pd.read_csv(file_path)\n",
        "\n",
        "            # Cleaning and preparing the 'Date' column\n",
        "            data['Date'] = pd.to_datetime(data['Date'], errors='coerce')\n",
        "            data = data.dropna(subset=['Date'])\n",
        "            data = data[data['Date'].dt.year.between(2010, 2022)]\n",
        "\n",
        "            # Extracting MD-MVM Id\n",
        "            md_mvm_id = data['MD-MVM Id'].iloc[0]\n",
        "\n",
        "            for year in range(2010, 2023):\n",
        "                create_hydrograph(data, year, md_mvm_id, output_folder_path)"
      ],
      "metadata": {
        "id": "mFGyaoNKif99"
      },
      "execution_count": 3,
      "outputs": []
    },
    {
      "cell_type": "code",
      "source": [
        "process_folder('/content/...', '/content/...')"
      ],
      "metadata": {
        "id": "XkM-Mswrl__O"
      },
      "execution_count": 4,
      "outputs": []
    }
  ]
}