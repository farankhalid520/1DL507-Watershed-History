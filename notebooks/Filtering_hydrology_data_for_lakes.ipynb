{
  "nbformat": 4,
  "nbformat_minor": 0,
  "metadata": {
    "colab": {
      "provenance": []
    },
    "kernelspec": {
      "name": "python3",
      "display_name": "Python 3"
    },
    "language_info": {
      "name": "python"
    }
  },
  "cells": [
    {
      "cell_type": "code",
      "execution_count": 32,
      "metadata": {
        "colab": {
          "base_uri": "https://localhost:8080/",
          "height": 36
        },
        "id": "RSPxLQcpItap",
        "outputId": "f49a5092-fe29-4f12-9456-137b9766477e"
      },
      "outputs": [
        {
          "output_type": "execute_result",
          "data": {
            "text/plain": [
              "'/content/drive/MyDrive/datamerged_data_163.csv'"
            ],
            "application/vnd.google.colaboratory.intrinsic+json": {
              "type": "string"
            }
          },
          "metadata": {},
          "execution_count": 32
        }
      ],
      "source": [
        "import pandas as pd\n",
        "\n",
        "# Specify the MD-MVM Id and the path to the chemistry data file\n",
        "md_mvm_id = 163\n",
        "chem_data_file_path = '/content/drive/MyDrive/data/lake_chem_data_cleaned.csv'  # Replace with your file path\n",
        "\n",
        "# Load the chemistry data from the specified file\n",
        "chem_data = pd.read_csv(chem_data_file_path)\n",
        "\n",
        "# Load the hydrology data from the 'Dygnsvärden' sheet of the 33542.xls file\n",
        "hydrology_data_33542 = pd.read_excel('/content/drive/MyDrive/data/hydrology data/31575.xls', sheet_name='Dygnsvärden', header=2)\n",
        "\n",
        "# Renaming the first column to 'Date'\n",
        "hydrology_data_33542.rename(columns={hydrology_data_33542.columns[0]: 'Date'}, inplace=True)\n",
        "\n",
        "# Filtering the chemistry data for the specified MD-MVM Id\n",
        "filtered_chem_data_122 = chem_data[chem_data['MD-MVM Id'] == md_mvm_id]\n",
        "\n",
        "# Merging the filtered chemistry data with the hydrology data\n",
        "merged_data_122 = pd.merge(filtered_chem_data_122, hydrology_data_33542, on='Date', how='left')\n",
        "\n",
        "target_folder = '/content/drive/MyDrive/data'\n",
        "merged_file_path_122 = f'{target_folder}merged_data_{md_mvm_id}.csv'\n",
        "\n",
        "# Save the merged data to a CSV file\n",
        "merged_data_122.to_csv(merged_file_path_122, index=False)\n",
        "\n",
        "merged_file_path_122\n"
      ]
    }
  ]
}