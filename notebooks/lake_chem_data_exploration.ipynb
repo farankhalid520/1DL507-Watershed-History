{
 "cells": [
  {
   "cell_type": "markdown",
   "id": "7a21d3a3",
   "metadata": {},
   "source": [
    "# Lake chemistry data: Exploratory analysis"
   ]
  },
  {
   "cell_type": "code",
   "execution_count": 2,
   "id": "ba84aa8c",
   "metadata": {},
   "outputs": [],
   "source": [
    "import pandas as pd\n",
    "import numpy as np\n",
    "import matplotlib.pyplot as plt"
   ]
  },
  {
   "cell_type": "code",
   "execution_count": 25,
   "id": "93319818",
   "metadata": {},
   "outputs": [],
   "source": [
    "import jupyter_black\n",
    "\n",
    "jupyter_black.load()"
   ]
  },
  {
   "cell_type": "markdown",
   "id": "3b3b69ab",
   "metadata": {},
   "source": [
    "## Load and inspect the data set"
   ]
  },
  {
   "cell_type": "code",
   "execution_count": 3,
   "id": "9abedc2a",
   "metadata": {},
   "outputs": [],
   "source": [
    "df_lake_chem = pd.read_excel(\n",
    "    \"data/LakeChem 2001-2022 Surface Season cleand.xlsx\", \n",
    "    sheet_name=\"LakeChem 2001-2022 Surface Seas\",\n",
    ")"
   ]
  },
  {
   "cell_type": "code",
   "execution_count": 7,
   "id": "c9a6c93a",
   "metadata": {},
   "outputs": [
    {
     "data": {
      "text/html": [
       "<div>\n",
       "<style scoped>\n",
       "    .dataframe tbody tr th:only-of-type {\n",
       "        vertical-align: middle;\n",
       "    }\n",
       "\n",
       "    .dataframe tbody tr th {\n",
       "        vertical-align: top;\n",
       "    }\n",
       "\n",
       "    .dataframe thead th {\n",
       "        text-align: right;\n",
       "    }\n",
       "</style>\n",
       "<table border=\"1\" class=\"dataframe\">\n",
       "  <thead>\n",
       "    <tr style=\"text-align: right;\">\n",
       "      <th></th>\n",
       "      <th>MD-MVM Id</th>\n",
       "      <th>Nationellt övervakningsstations-ID</th>\n",
       "      <th>Övervakningsstation</th>\n",
       "      <th>Stationskoordinat N/X</th>\n",
       "      <th>Stationskoordinat E/Y</th>\n",
       "      <th>Län</th>\n",
       "      <th>Kommun</th>\n",
       "      <th>MS_CD C3</th>\n",
       "      <th>ProvId</th>\n",
       "      <th>Provdatum</th>\n",
       "      <th>...</th>\n",
       "      <th>Tot-P (µg/l P)</th>\n",
       "      <th>Si (mg/l)</th>\n",
       "      <th>Fe (µg/l)</th>\n",
       "      <th>Al (µg/l)</th>\n",
       "      <th>Al_s (µg/l)</th>\n",
       "      <th>Syrgashalt (mg/l O2)</th>\n",
       "      <th>Siktdjup (m)</th>\n",
       "      <th>Siktdjup med kikare (m)</th>\n",
       "      <th>Siktdjup utan kikare (m)</th>\n",
       "      <th>Vattentemperatur (°C)</th>\n",
       "    </tr>\n",
       "  </thead>\n",
       "  <tbody>\n",
       "    <tr>\n",
       "      <th>0</th>\n",
       "      <td>54</td>\n",
       "      <td>262403.0</td>\n",
       "      <td>Spjutsjön</td>\n",
       "      <td>6722638</td>\n",
       "      <td>524356</td>\n",
       "      <td>Dalarnas län</td>\n",
       "      <td>Falun</td>\n",
       "      <td>WA42559716</td>\n",
       "      <td>22480</td>\n",
       "      <td>2001-03-28</td>\n",
       "      <td>...</td>\n",
       "      <td>8.0</td>\n",
       "      <td>2.27</td>\n",
       "      <td>40.0</td>\n",
       "      <td>NaN</td>\n",
       "      <td>85.0</td>\n",
       "      <td>NaN</td>\n",
       "      <td>5.5</td>\n",
       "      <td>NaN</td>\n",
       "      <td>NaN</td>\n",
       "      <td>0.6</td>\n",
       "    </tr>\n",
       "    <tr>\n",
       "      <th>1</th>\n",
       "      <td>54</td>\n",
       "      <td>262403.0</td>\n",
       "      <td>Spjutsjön</td>\n",
       "      <td>6722638</td>\n",
       "      <td>524356</td>\n",
       "      <td>Dalarnas län</td>\n",
       "      <td>Falun</td>\n",
       "      <td>WA42559716</td>\n",
       "      <td>22481</td>\n",
       "      <td>2001-05-21</td>\n",
       "      <td>...</td>\n",
       "      <td>5.0</td>\n",
       "      <td>1.62</td>\n",
       "      <td>43.0</td>\n",
       "      <td>NaN</td>\n",
       "      <td>80.0</td>\n",
       "      <td>NaN</td>\n",
       "      <td>7.6</td>\n",
       "      <td>NaN</td>\n",
       "      <td>NaN</td>\n",
       "      <td>10.2</td>\n",
       "    </tr>\n",
       "    <tr>\n",
       "      <th>2</th>\n",
       "      <td>54</td>\n",
       "      <td>262403.0</td>\n",
       "      <td>Spjutsjön</td>\n",
       "      <td>6722638</td>\n",
       "      <td>524356</td>\n",
       "      <td>Dalarnas län</td>\n",
       "      <td>Falun</td>\n",
       "      <td>WA42559716</td>\n",
       "      <td>22482</td>\n",
       "      <td>2001-08-22</td>\n",
       "      <td>...</td>\n",
       "      <td>5.0</td>\n",
       "      <td>1.73</td>\n",
       "      <td>19.0</td>\n",
       "      <td>NaN</td>\n",
       "      <td>45.0</td>\n",
       "      <td>NaN</td>\n",
       "      <td>6.0</td>\n",
       "      <td>NaN</td>\n",
       "      <td>NaN</td>\n",
       "      <td>18.6</td>\n",
       "    </tr>\n",
       "    <tr>\n",
       "      <th>3</th>\n",
       "      <td>54</td>\n",
       "      <td>262403.0</td>\n",
       "      <td>Spjutsjön</td>\n",
       "      <td>6722638</td>\n",
       "      <td>524356</td>\n",
       "      <td>Dalarnas län</td>\n",
       "      <td>Falun</td>\n",
       "      <td>WA42559716</td>\n",
       "      <td>22483</td>\n",
       "      <td>2001-10-15</td>\n",
       "      <td>...</td>\n",
       "      <td>8.0</td>\n",
       "      <td>1.72</td>\n",
       "      <td>41.0</td>\n",
       "      <td>NaN</td>\n",
       "      <td>50.0</td>\n",
       "      <td>NaN</td>\n",
       "      <td>7.0</td>\n",
       "      <td>NaN</td>\n",
       "      <td>NaN</td>\n",
       "      <td>10.3</td>\n",
       "    </tr>\n",
       "    <tr>\n",
       "      <th>4</th>\n",
       "      <td>54</td>\n",
       "      <td>262403.0</td>\n",
       "      <td>Spjutsjön</td>\n",
       "      <td>6722638</td>\n",
       "      <td>524356</td>\n",
       "      <td>Dalarnas län</td>\n",
       "      <td>Falun</td>\n",
       "      <td>WA42559716</td>\n",
       "      <td>22484</td>\n",
       "      <td>2002-02-26</td>\n",
       "      <td>...</td>\n",
       "      <td>8.0</td>\n",
       "      <td>1.89</td>\n",
       "      <td>36.0</td>\n",
       "      <td>NaN</td>\n",
       "      <td>55.0</td>\n",
       "      <td>NaN</td>\n",
       "      <td>NaN</td>\n",
       "      <td>NaN</td>\n",
       "      <td>NaN</td>\n",
       "      <td>1.5</td>\n",
       "    </tr>\n",
       "  </tbody>\n",
       "</table>\n",
       "<p>5 rows × 52 columns</p>\n",
       "</div>"
      ],
      "text/plain": [
       "   MD-MVM Id  Nationellt övervakningsstations-ID Övervakningsstation  \\\n",
       "0         54                            262403.0           Spjutsjön   \n",
       "1         54                            262403.0           Spjutsjön   \n",
       "2         54                            262403.0           Spjutsjön   \n",
       "3         54                            262403.0           Spjutsjön   \n",
       "4         54                            262403.0           Spjutsjön   \n",
       "\n",
       "   Stationskoordinat N/X  Stationskoordinat E/Y           Län Kommun  \\\n",
       "0                6722638                 524356  Dalarnas län  Falun   \n",
       "1                6722638                 524356  Dalarnas län  Falun   \n",
       "2                6722638                 524356  Dalarnas län  Falun   \n",
       "3                6722638                 524356  Dalarnas län  Falun   \n",
       "4                6722638                 524356  Dalarnas län  Falun   \n",
       "\n",
       "     MS_CD C3  ProvId   Provdatum  ...  Tot-P (µg/l P)  Si (mg/l)  Fe (µg/l)  \\\n",
       "0  WA42559716   22480  2001-03-28  ...             8.0       2.27       40.0   \n",
       "1  WA42559716   22481  2001-05-21  ...             5.0       1.62       43.0   \n",
       "2  WA42559716   22482  2001-08-22  ...             5.0       1.73       19.0   \n",
       "3  WA42559716   22483  2001-10-15  ...             8.0       1.72       41.0   \n",
       "4  WA42559716   22484  2002-02-26  ...             8.0       1.89       36.0   \n",
       "\n",
       "   Al (µg/l)  Al_s (µg/l)  Syrgashalt (mg/l O2)  Siktdjup (m)  \\\n",
       "0        NaN         85.0                   NaN           5.5   \n",
       "1        NaN         80.0                   NaN           7.6   \n",
       "2        NaN         45.0                   NaN           6.0   \n",
       "3        NaN         50.0                   NaN           7.0   \n",
       "4        NaN         55.0                   NaN           NaN   \n",
       "\n",
       "   Siktdjup med kikare (m)  Siktdjup utan kikare (m)  Vattentemperatur (°C)  \n",
       "0                      NaN                       NaN                    0.6  \n",
       "1                      NaN                       NaN                   10.2  \n",
       "2                      NaN                       NaN                   18.6  \n",
       "3                      NaN                       NaN                   10.3  \n",
       "4                      NaN                       NaN                    1.5  \n",
       "\n",
       "[5 rows x 52 columns]"
      ]
     },
     "execution_count": 7,
     "metadata": {},
     "output_type": "execute_result"
    }
   ],
   "source": [
    "df_lake_chem.head()"
   ]
  },
  {
   "cell_type": "code",
   "execution_count": 12,
   "id": "9bdda33b",
   "metadata": {},
   "outputs": [
    {
     "data": {
      "text/plain": [
       "(8974, 52)"
      ]
     },
     "execution_count": 12,
     "metadata": {},
     "output_type": "execute_result"
    }
   ],
   "source": [
    "df_lake_chem.shape"
   ]
  },
  {
   "cell_type": "code",
   "execution_count": 10,
   "id": "8e838f80",
   "metadata": {},
   "outputs": [
    {
     "data": {
      "text/plain": [
       "MD-MVM Id                                0\n",
       "Nationellt övervakningsstations-ID     161\n",
       "Övervakningsstation                      0\n",
       "Stationskoordinat N/X                    0\n",
       "Stationskoordinat E/Y                    0\n",
       "Län                                      0\n",
       "Kommun                                   0\n",
       "MS_CD C3                               227\n",
       "ProvId                                   0\n",
       "Provdatum                                0\n",
       "Provtagningsår                           0\n",
       "Provtagningsmånad                        0\n",
       "Provtagningsdag                          0\n",
       "SeasonType                               0\n",
       "Season                                   0\n",
       "Season priority                          0\n",
       "Season cleaning                          0\n",
       "Max provdjup (m)                         1\n",
       "TOC (mg/l C)                             0\n",
       "DOC (mg/l C)                          8553\n",
       "Tot-N_ps (µg/l N)                     6607\n",
       "Tot-N_TNb (µg/l N)                    2375\n",
       "Abs_F 254 (/5cm)                      4921\n",
       "Abs_F 365 (/5cm)                      4921\n",
       "Abs_F 420 (/5cm)                         3\n",
       "Abs_F 436 (/m)                        4921\n",
       "Abs_OF 420 (/5cm)                     5149\n",
       "Turb_FNU (FNU)                        3686\n",
       "Kfyll (µg/l)                           422\n",
       "pH                                       5\n",
       "Kond_25 (mS/m)                           1\n",
       "Alk/Acid (mekv/l)                        0\n",
       "Ca (mekv/l)                              2\n",
       "Mg (mekv/l)                              3\n",
       "Na (mekv/l)                              3\n",
       "K (mekv/l)                               3\n",
       "SO4 (mekv/l)                             2\n",
       "Cl (mekv/l)                              3\n",
       "F (mekv/l)                               3\n",
       "NH4-N (µg/l N)                          14\n",
       "NO2+NO3-N (µg/l N)                       6\n",
       "PO4-P (µg/l P)                          15\n",
       "Tot-P (µg/l P)                           7\n",
       "Si (mg/l)                               28\n",
       "Fe (µg/l)                              198\n",
       "Al (µg/l)                             4919\n",
       "Al_s (µg/l)                           7853\n",
       "Syrgashalt (mg/l O2)                  6480\n",
       "Siktdjup (m)                          5506\n",
       "Siktdjup med kikare (m)               8428\n",
       "Siktdjup utan kikare (m)              6243\n",
       "Vattentemperatur (°C)                  316\n",
       "dtype: int64"
      ]
     },
     "execution_count": 10,
     "metadata": {},
     "output_type": "execute_result"
    }
   ],
   "source": [
    "df_lake_chem.isnull().sum()"
   ]
  },
  {
   "cell_type": "markdown",
   "id": "e9f03f80",
   "metadata": {},
   "source": [
    "### Initial hypothesis on most important variables\n",
    "\n",
    "Dependent: TOC (mg/l C); Abs_F 420 (/5cm)\n",
    "\n",
    "Explanatory / control: SO4 (mekv/l) (sulfate); NH4-N (µg/l N) (ammonium); NO2+NO3-N (µg/l N) (nitrate, nitrite); PO4-P (µg/l P) (phosphate); Tot-P (µg/l P) (total phosphorus); Fe (µg/l) (iron); Siktdjup (m)\n",
    "\n",
    "**--> Good data availability of all key variables except Siktdjup**"
   ]
  },
  {
   "cell_type": "markdown",
   "id": "7fe17602",
   "metadata": {},
   "source": [
    "## Time series plots of different variables"
   ]
  },
  {
   "cell_type": "code",
   "execution_count": 15,
   "id": "db612d8f",
   "metadata": {},
   "outputs": [
    {
     "name": "stdout",
     "output_type": "stream",
     "text": [
      "['Spjutsjön', 'Edasjön', 'Mäsen', 'Hällsjön', 'Gipsjön', 'Översjön', 'Remmarsjön', 'Hällvattnet', 'Siggeforasjön', 'Bäen', 'Valkeajärvi', 'Valasjön', 'Skärsjön', 'Latnjajaure', 'Sännen', 'Svinarydsjön', 'Örsjön', 'Harasjön', 'Svartesjön', 'Stora Skärsjön', 'Fyrsjön', 'Älgarydssjön', 'Björken', 'Älgsjön', 'Rammsjön', 'Lilla Öresjön', 'Överudssjön', 'N. Yngern', 'Stora Envättern', 'Hjärtsjön', 'Fiolen', 'Storasjö', 'Ulvsjön', 'Bysjön', 'Dagarn', 'Övre Skärsjön', 'Hinnasjön', 'Limmingsjön', 'Granvattnet', 'Rotehogstjärnen', 'Hökesjön', 'Allgjuttern', 'Bergträsket', 'Brunnsjön', 'Tomeshultagölen', 'Stora Tresticklan', 'Brännträsket', 'St. Lummersjön', 'Vuolgamjaure', 'Stor-Arasjön', 'Öjsjön', 'Njalakjaure', 'Täftesträsket', 'Stora Gryten', 'Skärgölen', 'Grissjön', 'Alsjön', 'Degervattnet', 'Humsjön', 'Stor-Björsjön', 'Sangen', 'Stor-Backsjön', 'Västra Solsjön', 'Fräcksjön', 'Tärnan', 'Tängersjö', 'Fjärasjö', 'Louvvajaure', 'Jutsajaure', 'Övre Fjätsjön', 'Pahajärvi', 'Tväringen', 'Sidensjön', 'Djupa Holmsjön', 'Långsjön', 'Hagasjön', 'Fagertärn', 'Stensjön', 'Gosjön', 'V. Rännöbodsjön', 'Bjännsjön', 'Abiskojaure', 'Stor-Tjulträsket', 'Krageholmssjön', 'Dunnervattnet', 'Fysingen', 'Lillsjön', 'Rundbosjön', 'Tångerdasjön', 'Bästeträsk', 'Havgårdssjön', 'Krankesjön', 'Ymsen', 'Ekholmssjön', 'Ögerträsket', 'Horsan', 'Svartsjön', 'Ämten', 'Svartvattnet', 'Storvindeln', 'Glimmingen', 'Båtkåjaure', 'Tronntjärnarna', 'Östra Helgtjärnen', 'Gåtejaure', 'Vuolejaure', 'Vitträsket', 'Norra Reivo']\n"
     ]
    }
   ],
   "source": [
    "list_of_lakes = df_lake_chem[\"Övervakningsstation\"].unique().tolist()\n",
    "print(list_of_lakes)"
   ]
  },
  {
   "cell_type": "code",
   "execution_count": 1,
   "id": "31ff3476",
   "metadata": {},
   "outputs": [
    {
     "ename": "NameError",
     "evalue": "name 'list_of_lakes' is not defined",
     "output_type": "error",
     "traceback": [
      "\u001b[0;31m---------------------------------------------------------------------------\u001b[0m",
      "\u001b[0;31mNameError\u001b[0m                                 Traceback (most recent call last)",
      "Cell \u001b[0;32mIn[1], line 1\u001b[0m\n\u001b[0;32m----> 1\u001b[0m \u001b[38;5;28mlen\u001b[39m(list_of_lakes)\n",
      "\u001b[0;31mNameError\u001b[0m: name 'list_of_lakes' is not defined"
     ]
    }
   ],
   "source": [
    "len(list_of_lakes)"
   ]
  },
  {
   "cell_type": "code",
   "execution_count": 33,
   "id": "558e243a",
   "metadata": {},
   "outputs": [
    {
     "data": {
      "image/png": "[encoded data removed]",
      "text/plain": [
       "<Figure size 800x400 with 2 Axes>"
      ]
     },
     "metadata": {},
     "output_type": "display_data"
    }
   ],
   "source": [
    "# Select what lake and variables to study\n",
    "lake = \"Edasjön\"\n",
    "dependent_var = \"TOC (mg/l C)\"\n",
    "explan_var = \"NH4-N (µg/l N)\"\n",
    "\n",
    "data_for_plot = df_lake_chem.loc[df_lake_chem[\"Övervakningsstation\"] == lake] \n",
    "\n",
    "fig, ax1 = plt.subplots(figsize=(8, 4))\n",
    "\n",
    "# Plot the first variable on the left y-axis\n",
    "ax1.plot(data_for_plot.index, data_for_plot[dependent_var], color='b', label=dependent_var)\n",
    "ax1.set_xlabel(\"Measurement date\")\n",
    "ax1.set_ylabel(dependent_var, color='b')\n",
    "ax1.tick_params(axis='y', labelcolor='b')\n",
    "\n",
    "# Create a secondary y-axis and plot the second variable on it\n",
    "ax2 = ax1.twinx()\n",
    "ax2.plot(data_for_plot.index, data_for_plot[explan_var], color='r', label=explan_var)\n",
    "ax2.set_ylabel(explan_var, color='r')\n",
    "ax2.tick_params(axis='y', labelcolor='r')\n",
    "\n",
    "# Add legends for both lines\n",
    "lines1, labels1 = ax1.get_legend_handles_labels()\n",
    "lines2, labels2 = ax2.get_legend_handles_labels()\n",
    "ax1.legend(lines1 + lines2, labels1 + labels2, loc=\"upper right\")\n",
    "\n",
    "plt.show()"
   ]
  },
  {
   "cell_type": "code",
   "execution_count": null,
   "id": "fab7dd58",
   "metadata": {},
   "outputs": [],
   "source": []
  },
  {
   "cell_type": "code",
   "execution_count": null,
   "id": "6ecfb8e5",
   "metadata": {},
   "outputs": [],
   "source": []
  },
  {
   "cell_type": "code",
   "execution_count": null,
   "id": "95104c90",
   "metadata": {},
   "outputs": [],
   "source": []
  },
  {
   "cell_type": "code",
   "execution_count": null,
   "id": "48daf77c",
   "metadata": {},
   "outputs": [],
   "source": []
  },
  {
   "cell_type": "code",
   "execution_count": null,
   "id": "2e8798c3",
   "metadata": {},
   "outputs": [],
   "source": []
  },
  {
   "cell_type": "code",
   "execution_count": null,
   "id": "c185ba68",
   "metadata": {},
   "outputs": [],
   "source": []
  },
  {
   "cell_type": "code",
   "execution_count": null,
   "id": "744190d5",
   "metadata": {},
   "outputs": [],
   "source": []
  },
  {
   "cell_type": "code",
   "execution_count": null,
   "id": "accf17ee",
   "metadata": {},
   "outputs": [],
   "source": []
  }
 ],
 "metadata": {
  "kernelspec": {
   "display_name": "watersheds",
   "language": "python",
   "name": "watersheds"
  },
  "language_info": {
   "codemirror_mode": {
    "name": "ipython",
    "version": 3
   },
   "file_extension": ".py",
   "mimetype": "text/x-python",
   "name": "python",
   "nbconvert_exporter": "python",
   "pygments_lexer": "ipython3",
   "version": "3.11.5"
  }
 },
 "nbformat": 4,
 "nbformat_minor": 5
}
