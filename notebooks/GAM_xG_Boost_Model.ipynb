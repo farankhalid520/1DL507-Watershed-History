{
  "nbformat": 4,
  "nbformat_minor": 0,
  "metadata": {
    "colab": {
      "provenance": []
    },
    "kernelspec": {
      "name": "python3",
      "display_name": "Python 3"
    },
    "language_info": {
      "name": "python"
    },
    "accelerator": "TPU"
  },
  "cells": [
    {
      "cell_type": "markdown",
      "source": [
        "# Statistical Modelling : Generalized Additive Model (GAM) with XG Boosting\n",
        "\n",
        "**Author**: Muhammad Faran Khalid"
      ],
      "metadata": {
        "id": "ggubS3yB2cFR"
      }
    },
    {
      "cell_type": "markdown",
      "source": [
        "In this notebook I'm using a Generalized Additive Model (GAM) for predicting TOC in various lakes and catchment areas present in our dataset. I'm using a LinearGAM model from the ***pygam*** library"
      ],
      "metadata": {
        "id": "hFVrtwcX2yva"
      }
    },
    {
      "cell_type": "code",
      "source": [
        "!pip install pygam"
      ],
      "metadata": {
        "colab": {
          "base_uri": "https://localhost:8080/"
        },
        "id": "Tx4ghflskgGx",
        "outputId": "138a76a0-153a-425d-a422-46176a9940da"
      },
      "execution_count": 1,
      "outputs": [
        {
          "output_type": "stream",
          "name": "stdout",
          "text": [
            "Collecting pygam\n",
            "  Downloading pygam-0.9.0-py3-none-any.whl (522 kB)\n",
            "\u001b[2K     \u001b[90m━━━━━━━━━━━━━━━━━━━━━━━━━━━━━━━━━━━━━━━━\u001b[0m \u001b[32m522.2/522.2 kB\u001b[0m \u001b[31m1.9 MB/s\u001b[0m eta \u001b[36m0:00:00\u001b[0m\n",
            "\u001b[?25hCollecting numpy<2.0.0,>=1.24.2 (from pygam)\n",
            "  Downloading numpy-1.26.2-cp310-cp310-manylinux_2_17_x86_64.manylinux2014_x86_64.whl (18.2 MB)\n",
            "\u001b[2K     \u001b[90m━━━━━━━━━━━━━━━━━━━━━━━━━━━━━━━━━━━━━━━━\u001b[0m \u001b[32m18.2/18.2 MB\u001b[0m \u001b[31m9.1 MB/s\u001b[0m eta \u001b[36m0:00:00\u001b[0m\n",
            "\u001b[?25hRequirement already satisfied: progressbar2<5.0.0,>=4.2.0 in /usr/local/lib/python3.10/dist-packages (from pygam) (4.2.0)\n",
            "Requirement already satisfied: scipy<2.0.0,>=1.10.1 in /usr/local/lib/python3.10/dist-packages (from pygam) (1.11.4)\n",
            "Requirement already satisfied: python-utils>=3.0.0 in /usr/local/lib/python3.10/dist-packages (from progressbar2<5.0.0,>=4.2.0->pygam) (3.8.1)\n",
            "Requirement already satisfied: typing-extensions>3.10.0.2 in /usr/local/lib/python3.10/dist-packages (from python-utils>=3.0.0->progressbar2<5.0.0,>=4.2.0->pygam) (4.5.0)\n",
            "Installing collected packages: numpy, pygam\n",
            "  Attempting uninstall: numpy\n",
            "    Found existing installation: numpy 1.23.5\n",
            "    Uninstalling numpy-1.23.5:\n",
            "      Successfully uninstalled numpy-1.23.5\n",
            "\u001b[31mERROR: pip's dependency resolver does not currently take into account all the packages that are installed. This behaviour is the source of the following dependency conflicts.\n",
            "lida 0.0.10 requires fastapi, which is not installed.\n",
            "lida 0.0.10 requires kaleido, which is not installed.\n",
            "lida 0.0.10 requires python-multipart, which is not installed.\n",
            "lida 0.0.10 requires uvicorn, which is not installed.\n",
            "orbax-checkpoint 0.4.4 requires jax>=0.4.9, but you have jax 0.3.25 which is incompatible.\n",
            "pandas-gbq 0.19.2 requires google-auth-oauthlib>=0.7.0, but you have google-auth-oauthlib 0.4.6 which is incompatible.\n",
            "tensorflow 2.12.0 requires numpy<1.24,>=1.22, but you have numpy 1.26.2 which is incompatible.\u001b[0m\u001b[31m\n",
            "\u001b[0mSuccessfully installed numpy-1.26.2 pygam-0.9.0\n"
          ]
        }
      ]
    },
    {
      "cell_type": "code",
      "source": [
        "!pip install numpy==1.23.5"
      ],
      "metadata": {
        "colab": {
          "base_uri": "https://localhost:8080/",
          "height": 428
        },
        "id": "QDpQwwaGOSii",
        "outputId": "980dd5ab-fd05-4b27-fcff-f5a70d48f25c"
      },
      "execution_count": 2,
      "outputs": [
        {
          "output_type": "stream",
          "name": "stdout",
          "text": [
            "Collecting numpy==1.23.5\n",
            "  Downloading numpy-1.23.5-cp310-cp310-manylinux_2_17_x86_64.manylinux2014_x86_64.whl (17.1 MB)\n",
            "\u001b[2K     \u001b[90m━━━━━━━━━━━━━━━━━━━━━━━━━━━━━━━━━━━━━━━━\u001b[0m \u001b[32m17.1/17.1 MB\u001b[0m \u001b[31m16.9 MB/s\u001b[0m eta \u001b[36m0:00:00\u001b[0m\n",
            "\u001b[?25hInstalling collected packages: numpy\n",
            "  Attempting uninstall: numpy\n",
            "    Found existing installation: numpy 1.26.2\n",
            "    Uninstalling numpy-1.26.2:\n",
            "      Successfully uninstalled numpy-1.26.2\n",
            "\u001b[31mERROR: pip's dependency resolver does not currently take into account all the packages that are installed. This behaviour is the source of the following dependency conflicts.\n",
            "lida 0.0.10 requires fastapi, which is not installed.\n",
            "lida 0.0.10 requires kaleido, which is not installed.\n",
            "lida 0.0.10 requires python-multipart, which is not installed.\n",
            "lida 0.0.10 requires uvicorn, which is not installed.\n",
            "orbax-checkpoint 0.4.4 requires jax>=0.4.9, but you have jax 0.3.25 which is incompatible.\n",
            "pandas-gbq 0.19.2 requires google-auth-oauthlib>=0.7.0, but you have google-auth-oauthlib 0.4.6 which is incompatible.\n",
            "pygam 0.9.0 requires numpy<2.0.0,>=1.24.2, but you have numpy 1.23.5 which is incompatible.\u001b[0m\u001b[31m\n",
            "\u001b[0mSuccessfully installed numpy-1.23.5\n"
          ]
        },
        {
          "output_type": "display_data",
          "data": {
            "application/vnd.colab-display-data+json": {
              "pip_warning": {
                "packages": [
                  "numpy"
                ]
              }
            }
          },
          "metadata": {}
        }
      ]
    },
    {
      "cell_type": "code",
      "execution_count": 3,
      "metadata": {
        "id": "q-PttdbbjQ_t"
      },
      "outputs": [],
      "source": [
        "# imports\n",
        "import pandas as pd\n",
        "import matplotlib.pyplot as plt\n",
        "import statsmodels.api as sm\n",
        "import statsmodels.formula.api as smf\n",
        "import numpy as np\n",
        "from statsmodels.stats.outliers_influence import variance_inflation_factor\n",
        "from sklearn.preprocessing import StandardScaler, PolynomialFeatures\n",
        "from sklearn.model_selection import train_test_split, GridSearchCV\n",
        "from sklearn.metrics import r2_score, mean_absolute_error\n",
        "from sklearn.metrics import explained_variance_score, mean_squared_error\n",
        "from sklearn.ensemble import RandomForestRegressor, GradientBoostingRegressor\n",
        "import seaborn as sns\n",
        "import xgboost as xgb\n",
        "from pygam import LinearGAM, s, te, f\n",
        "from functools import reduce"
      ]
    },
    {
      "cell_type": "markdown",
      "source": [
        "# 1. Loading and Joining Datasets\n",
        "\n",
        "We have datasets for various lakes which holds data regarding their water chemistry, weather, landscape etc. Most of it was joined during initial phase of the project. Now just joining the remaining weather dataset.\n",
        "\n",
        "*MD-MVM Id* is the unique identifier of lakes in our dataset"
      ],
      "metadata": {
        "id": "QyXFX5z34EDt"
      }
    },
    {
      "cell_type": "code",
      "source": [
        "# Loading the datasets\n",
        "df1 = pd.read_csv('/content/drive/MyDrive/Model Data/Final_Merged_Dataset_With_WRT.csv')\n",
        "df2 = pd.read_csv('/content/drive/MyDrive/Model Data/weather_data_clean.csv')\n",
        "\n",
        "# Renaming column for consistency\n",
        "df2.rename(columns={'Sample date': 'Date'}, inplace=True)\n",
        "\n",
        "# Merging selected columns to dataframe\n",
        "columns_to_merge = ['MD-MVM Id', 'Date', 'Temp 1w avg', 'Temp 2w avg', 'Temp 4w avg',\n",
        "                    'Temp 12w avg', 'Temp 52w avg', 'Precip 1w avg', 'Precip 2w avg',\n",
        "                    'Precip 4w avg', 'Precip 12w avg', 'Precip 52w avg']\n",
        "df2_subset = df2[columns_to_merge]\n",
        "\n",
        "# Merging the dataframes on 'MD-MVM Id' and 'Date'\n",
        "df_merged = df1.merge(df2_subset, on=['MD-MVM Id', 'Date'], how='left')"
      ],
      "metadata": {
        "id": "k4RyKAnQkq9f",
        "colab": {
          "base_uri": "https://localhost:8080/"
        },
        "outputId": "890d865a-e868-44c4-be02-dd0870c39505"
      },
      "execution_count": 4,
      "outputs": [
        {
          "output_type": "stream",
          "name": "stderr",
          "text": [
            "<ipython-input-4-236732f055da>:2: DtypeWarning: Columns (77) have mixed types. Specify dtype option on import or set low_memory=False.\n",
            "  df1 = pd.read_csv('/content/drive/MyDrive/Model Data/Final_Merged_Dataset_With_WRT.csv')\n"
          ]
        }
      ]
    },
    {
      "cell_type": "code",
      "source": [
        "df_merged.head()"
      ],
      "metadata": {
        "id": "jEQtS3Mlk6st",
        "colab": {
          "base_uri": "https://localhost:8080/",
          "height": 377
        },
        "outputId": "ebbf4425-30d5-4bd0-d4d6-5890bbedd203"
      },
      "execution_count": 5,
      "outputs": [
        {
          "output_type": "execute_result",
          "data": {
            "text/plain": [
              "   Unnamed: 0_x  MD-MVM Id Survey station   Latitude  Longitude        County  \\\n",
              "0             0         54      Spjutsjön  60.638793  15.445276  Dalarnas län   \n",
              "1             1         54      Spjutsjön  60.638793  15.445276  Dalarnas län   \n",
              "2             2         54      Spjutsjön  60.638793  15.445276  Dalarnas län   \n",
              "3             3         54      Spjutsjön  60.638793  15.445276  Dalarnas län   \n",
              "4             4         54      Spjutsjön  60.638793  15.445276  Dalarnas län   \n",
              "\n",
              "  Municipality    MS_CD C3        Date  Year  ...  Temp 1w avg  Temp 2w avg  \\\n",
              "0        Falun  WA42559716  2001-03-28  2001  ...    -5.285714    -5.635714   \n",
              "1        Falun  WA42559716  2001-05-21  2001  ...     8.985714    11.342857   \n",
              "2        Falun  WA42559716  2001-08-22  2001  ...    16.700000    15.857143   \n",
              "3        Falun  WA42559716  2001-10-15  2001  ...     8.914286     9.371429   \n",
              "4        Falun  WA42559716  2002-02-26  2002  ...    -5.842857    -2.942857   \n",
              "\n",
              "   Temp 4w avg  Temp 12w avg  Temp 52w avg  Precip 1w avg  Precip 2w avg  \\\n",
              "0    -4.192857     -5.066667      5.641209            NaN            NaN   \n",
              "1     9.578571      2.153571      5.380220            NaN            NaN   \n",
              "2    15.828571     15.752381      5.734890            NaN            NaN   \n",
              "3     8.985714     12.829762      5.856319            NaN            NaN   \n",
              "4    -1.850000     -4.617857      5.262912            NaN            NaN   \n",
              "\n",
              "   Precip 4w avg  Precip 12w avg  Precip 52w avg  \n",
              "0            NaN             NaN             NaN  \n",
              "1            NaN             NaN             NaN  \n",
              "2            NaN             NaN             NaN  \n",
              "3            NaN             NaN             NaN  \n",
              "4            NaN             NaN             NaN  \n",
              "\n",
              "[5 rows x 107 columns]"
            ],
            "text/html": [
              "\n",
              "  <div id=\"df-72d98817-73bd-4e6a-b225-a14b3dd9358c\" class=\"colab-df-container\">\n",
              "    <div>\n",
              "<style scoped>\n",
              "    .dataframe tbody tr th:only-of-type {\n",
              "        vertical-align: middle;\n",
              "    }\n",
              "\n",
              "    .dataframe tbody tr th {\n",
              "        vertical-align: top;\n",
              "    }\n",
              "\n",
              "    .dataframe thead th {\n",
              "        text-align: right;\n",
              "    }\n",
              "</style>\n",
              "<table border=\"1\" class=\"dataframe\">\n",
              "  <thead>\n",
              "    <tr style=\"text-align: right;\">\n",
              "      <th></th>\n",
              "      <th>Unnamed: 0_x</th>\n",
              "      <th>MD-MVM Id</th>\n",
              "      <th>Survey station</th>\n",
              "      <th>Latitude</th>\n",
              "      <th>Longitude</th>\n",
              "      <th>County</th>\n",
              "      <th>Municipality</th>\n",
              "      <th>MS_CD C3</th>\n",
              "      <th>Date</th>\n",
              "      <th>Year</th>\n",
              "      <th>...</th>\n",
              "      <th>Temp 1w avg</th>\n",
              "      <th>Temp 2w avg</th>\n",
              "      <th>Temp 4w avg</th>\n",
              "      <th>Temp 12w avg</th>\n",
              "      <th>Temp 52w avg</th>\n",
              "      <th>Precip 1w avg</th>\n",
              "      <th>Precip 2w avg</th>\n",
              "      <th>Precip 4w avg</th>\n",
              "      <th>Precip 12w avg</th>\n",
              "      <th>Precip 52w avg</th>\n",
              "    </tr>\n",
              "  </thead>\n",
              "  <tbody>\n",
              "    <tr>\n",
              "      <th>0</th>\n",
              "      <td>0</td>\n",
              "      <td>54</td>\n",
              "      <td>Spjutsjön</td>\n",
              "      <td>60.638793</td>\n",
              "      <td>15.445276</td>\n",
              "      <td>Dalarnas län</td>\n",
              "      <td>Falun</td>\n",
              "      <td>WA42559716</td>\n",
              "      <td>2001-03-28</td>\n",
              "      <td>2001</td>\n",
              "      <td>...</td>\n",
              "      <td>-5.285714</td>\n",
              "      <td>-5.635714</td>\n",
              "      <td>-4.192857</td>\n",
              "      <td>-5.066667</td>\n",
              "      <td>5.641209</td>\n",
              "      <td>NaN</td>\n",
              "      <td>NaN</td>\n",
              "      <td>NaN</td>\n",
              "      <td>NaN</td>\n",
              "      <td>NaN</td>\n",
              "    </tr>\n",
              "    <tr>\n",
              "      <th>1</th>\n",
              "      <td>1</td>\n",
              "      <td>54</td>\n",
              "      <td>Spjutsjön</td>\n",
              "      <td>60.638793</td>\n",
              "      <td>15.445276</td>\n",
              "      <td>Dalarnas län</td>\n",
              "      <td>Falun</td>\n",
              "      <td>WA42559716</td>\n",
              "      <td>2001-05-21</td>\n",
              "      <td>2001</td>\n",
              "      <td>...</td>\n",
              "      <td>8.985714</td>\n",
              "      <td>11.342857</td>\n",
              "      <td>9.578571</td>\n",
              "      <td>2.153571</td>\n",
              "      <td>5.380220</td>\n",
              "      <td>NaN</td>\n",
              "      <td>NaN</td>\n",
              "      <td>NaN</td>\n",
              "      <td>NaN</td>\n",
              "      <td>NaN</td>\n",
              "    </tr>\n",
              "    <tr>\n",
              "      <th>2</th>\n",
              "      <td>2</td>\n",
              "      <td>54</td>\n",
              "      <td>Spjutsjön</td>\n",
              "      <td>60.638793</td>\n",
              "      <td>15.445276</td>\n",
              "      <td>Dalarnas län</td>\n",
              "      <td>Falun</td>\n",
              "      <td>WA42559716</td>\n",
              "      <td>2001-08-22</td>\n",
              "      <td>2001</td>\n",
              "      <td>...</td>\n",
              "      <td>16.700000</td>\n",
              "      <td>15.857143</td>\n",
              "      <td>15.828571</td>\n",
              "      <td>15.752381</td>\n",
              "      <td>5.734890</td>\n",
              "      <td>NaN</td>\n",
              "      <td>NaN</td>\n",
              "      <td>NaN</td>\n",
              "      <td>NaN</td>\n",
              "      <td>NaN</td>\n",
              "    </tr>\n",
              "    <tr>\n",
              "      <th>3</th>\n",
              "      <td>3</td>\n",
              "      <td>54</td>\n",
              "      <td>Spjutsjön</td>\n",
              "      <td>60.638793</td>\n",
              "      <td>15.445276</td>\n",
              "      <td>Dalarnas län</td>\n",
              "      <td>Falun</td>\n",
              "      <td>WA42559716</td>\n",
              "      <td>2001-10-15</td>\n",
              "      <td>2001</td>\n",
              "      <td>...</td>\n",
              "      <td>8.914286</td>\n",
              "      <td>9.371429</td>\n",
              "      <td>8.985714</td>\n",
              "      <td>12.829762</td>\n",
              "      <td>5.856319</td>\n",
              "      <td>NaN</td>\n",
              "      <td>NaN</td>\n",
              "      <td>NaN</td>\n",
              "      <td>NaN</td>\n",
              "      <td>NaN</td>\n",
              "    </tr>\n",
              "    <tr>\n",
              "      <th>4</th>\n",
              "      <td>4</td>\n",
              "      <td>54</td>\n",
              "      <td>Spjutsjön</td>\n",
              "      <td>60.638793</td>\n",
              "      <td>15.445276</td>\n",
              "      <td>Dalarnas län</td>\n",
              "      <td>Falun</td>\n",
              "      <td>WA42559716</td>\n",
              "      <td>2002-02-26</td>\n",
              "      <td>2002</td>\n",
              "      <td>...</td>\n",
              "      <td>-5.842857</td>\n",
              "      <td>-2.942857</td>\n",
              "      <td>-1.850000</td>\n",
              "      <td>-4.617857</td>\n",
              "      <td>5.262912</td>\n",
              "      <td>NaN</td>\n",
              "      <td>NaN</td>\n",
              "      <td>NaN</td>\n",
              "      <td>NaN</td>\n",
              "      <td>NaN</td>\n",
              "    </tr>\n",
              "  </tbody>\n",
              "</table>\n",
              "<p>5 rows × 107 columns</p>\n",
              "</div>\n",
              "    <div class=\"colab-df-buttons\">\n",
              "\n",
              "  <div class=\"colab-df-container\">\n",
              "    <button class=\"colab-df-convert\" onclick=\"convertToInteractive('df-72d98817-73bd-4e6a-b225-a14b3dd9358c')\"\n",
              "            title=\"Convert this dataframe to an interactive table.\"\n",
              "            style=\"display:none;\">\n",
              "\n",
              "  <svg xmlns=\"http://www.w3.org/2000/svg\" height=\"24px\" viewBox=\"0 -960 960 960\">\n",
              "    <path d=\"M120-120v-720h720v720H120Zm60-500h600v-160H180v160Zm220 220h160v-160H400v160Zm0 220h160v-160H400v160ZM180-400h160v-160H180v160Zm440 0h160v-160H620v160ZM180-180h160v-160H180v160Zm440 0h160v-160H620v160Z\"/>\n",
              "  </svg>\n",
              "    </button>\n",
              "\n",
              "  <style>\n",
              "    .colab-df-container {\n",
              "      display:flex;\n",
              "      gap: 12px;\n",
              "    }\n",
              "\n",
              "    .colab-df-convert {\n",
              "      background-color: #E8F0FE;\n",
              "      border: none;\n",
              "      border-radius: 50%;\n",
              "      cursor: pointer;\n",
              "      display: none;\n",
              "      fill: #1967D2;\n",
              "      height: 32px;\n",
              "      padding: 0 0 0 0;\n",
              "      width: 32px;\n",
              "    }\n",
              "\n",
              "    .colab-df-convert:hover {\n",
              "      background-color: #E2EBFA;\n",
              "      box-shadow: 0px 1px 2px rgba(60, 64, 67, 0.3), 0px 1px 3px 1px rgba(60, 64, 67, 0.15);\n",
              "      fill: #174EA6;\n",
              "    }\n",
              "\n",
              "    .colab-df-buttons div {\n",
              "      margin-bottom: 4px;\n",
              "    }\n",
              "\n",
              "    [theme=dark] .colab-df-convert {\n",
              "      background-color: #3B4455;\n",
              "      fill: #D2E3FC;\n",
              "    }\n",
              "\n",
              "    [theme=dark] .colab-df-convert:hover {\n",
              "      background-color: #434B5C;\n",
              "      box-shadow: 0px 1px 3px 1px rgba(0, 0, 0, 0.15);\n",
              "      filter: drop-shadow(0px 1px 2px rgba(0, 0, 0, 0.3));\n",
              "      fill: #FFFFFF;\n",
              "    }\n",
              "  </style>\n",
              "\n",
              "    <script>\n",
              "      const buttonEl =\n",
              "        document.querySelector('#df-72d98817-73bd-4e6a-b225-a14b3dd9358c button.colab-df-convert');\n",
              "      buttonEl.style.display =\n",
              "        google.colab.kernel.accessAllowed ? 'block' : 'none';\n",
              "\n",
              "      async function convertToInteractive(key) {\n",
              "        const element = document.querySelector('#df-72d98817-73bd-4e6a-b225-a14b3dd9358c');\n",
              "        const dataTable =\n",
              "          await google.colab.kernel.invokeFunction('convertToInteractive',\n",
              "                                                    [key], {});\n",
              "        if (!dataTable) return;\n",
              "\n",
              "        const docLinkHtml = 'Like what you see? Visit the ' +\n",
              "          '<a target=\"_blank\" href=https://colab.research.google.com/notebooks/data_table.ipynb>data table notebook</a>'\n",
              "          + ' to learn more about interactive tables.';\n",
              "        element.innerHTML = '';\n",
              "        dataTable['output_type'] = 'display_data';\n",
              "        await google.colab.output.renderOutput(dataTable, element);\n",
              "        const docLink = document.createElement('div');\n",
              "        docLink.innerHTML = docLinkHtml;\n",
              "        element.appendChild(docLink);\n",
              "      }\n",
              "    </script>\n",
              "  </div>\n",
              "\n",
              "\n",
              "<div id=\"df-d8f8adf1-996f-4c8b-9465-f3369511f048\">\n",
              "  <button class=\"colab-df-quickchart\" onclick=\"quickchart('df-d8f8adf1-996f-4c8b-9465-f3369511f048')\"\n",
              "            title=\"Suggest charts\"\n",
              "            style=\"display:none;\">\n",
              "\n",
              "<svg xmlns=\"http://www.w3.org/2000/svg\" height=\"24px\"viewBox=\"0 0 24 24\"\n",
              "     width=\"24px\">\n",
              "    <g>\n",
              "        <path d=\"M19 3H5c-1.1 0-2 .9-2 2v14c0 1.1.9 2 2 2h14c1.1 0 2-.9 2-2V5c0-1.1-.9-2-2-2zM9 17H7v-7h2v7zm4 0h-2V7h2v10zm4 0h-2v-4h2v4z\"/>\n",
              "    </g>\n",
              "</svg>\n",
              "  </button>\n",
              "\n",
              "<style>\n",
              "  .colab-df-quickchart {\n",
              "      --bg-color: #E8F0FE;\n",
              "      --fill-color: #1967D2;\n",
              "      --hover-bg-color: #E2EBFA;\n",
              "      --hover-fill-color: #174EA6;\n",
              "      --disabled-fill-color: #AAA;\n",
              "      --disabled-bg-color: #DDD;\n",
              "  }\n",
              "\n",
              "  [theme=dark] .colab-df-quickchart {\n",
              "      --bg-color: #3B4455;\n",
              "      --fill-color: #D2E3FC;\n",
              "      --hover-bg-color: #434B5C;\n",
              "      --hover-fill-color: #FFFFFF;\n",
              "      --disabled-bg-color: #3B4455;\n",
              "      --disabled-fill-color: #666;\n",
              "  }\n",
              "\n",
              "  .colab-df-quickchart {\n",
              "    background-color: var(--bg-color);\n",
              "    border: none;\n",
              "    border-radius: 50%;\n",
              "    cursor: pointer;\n",
              "    display: none;\n",
              "    fill: var(--fill-color);\n",
              "    height: 32px;\n",
              "    padding: 0;\n",
              "    width: 32px;\n",
              "  }\n",
              "\n",
              "  .colab-df-quickchart:hover {\n",
              "    background-color: var(--hover-bg-color);\n",
              "    box-shadow: 0 1px 2px rgba(60, 64, 67, 0.3), 0 1px 3px 1px rgba(60, 64, 67, 0.15);\n",
              "    fill: var(--button-hover-fill-color);\n",
              "  }\n",
              "\n",
              "  .colab-df-quickchart-complete:disabled,\n",
              "  .colab-df-quickchart-complete:disabled:hover {\n",
              "    background-color: var(--disabled-bg-color);\n",
              "    fill: var(--disabled-fill-color);\n",
              "    box-shadow: none;\n",
              "  }\n",
              "\n",
              "  .colab-df-spinner {\n",
              "    border: 2px solid var(--fill-color);\n",
              "    border-color: transparent;\n",
              "    border-bottom-color: var(--fill-color);\n",
              "    animation:\n",
              "      spin 1s steps(1) infinite;\n",
              "  }\n",
              "\n",
              "  @keyframes spin {\n",
              "    0% {\n",
              "      border-color: transparent;\n",
              "      border-bottom-color: var(--fill-color);\n",
              "      border-left-color: var(--fill-color);\n",
              "    }\n",
              "    20% {\n",
              "      border-color: transparent;\n",
              "      border-left-color: var(--fill-color);\n",
              "      border-top-color: var(--fill-color);\n",
              "    }\n",
              "    30% {\n",
              "      border-color: transparent;\n",
              "      border-left-color: var(--fill-color);\n",
              "      border-top-color: var(--fill-color);\n",
              "      border-right-color: var(--fill-color);\n",
              "    }\n",
              "    40% {\n",
              "      border-color: transparent;\n",
              "      border-right-color: var(--fill-color);\n",
              "      border-top-color: var(--fill-color);\n",
              "    }\n",
              "    60% {\n",
              "      border-color: transparent;\n",
              "      border-right-color: var(--fill-color);\n",
              "    }\n",
              "    80% {\n",
              "      border-color: transparent;\n",
              "      border-right-color: var(--fill-color);\n",
              "      border-bottom-color: var(--fill-color);\n",
              "    }\n",
              "    90% {\n",
              "      border-color: transparent;\n",
              "      border-bottom-color: var(--fill-color);\n",
              "    }\n",
              "  }\n",
              "</style>\n",
              "\n",
              "  <script>\n",
              "    async function quickchart(key) {\n",
              "      const quickchartButtonEl =\n",
              "        document.querySelector('#' + key + ' button');\n",
              "      quickchartButtonEl.disabled = true;  // To prevent multiple clicks.\n",
              "      quickchartButtonEl.classList.add('colab-df-spinner');\n",
              "      try {\n",
              "        const charts = await google.colab.kernel.invokeFunction(\n",
              "            'suggestCharts', [key], {});\n",
              "      } catch (error) {\n",
              "        console.error('Error during call to suggestCharts:', error);\n",
              "      }\n",
              "      quickchartButtonEl.classList.remove('colab-df-spinner');\n",
              "      quickchartButtonEl.classList.add('colab-df-quickchart-complete');\n",
              "    }\n",
              "    (() => {\n",
              "      let quickchartButtonEl =\n",
              "        document.querySelector('#df-d8f8adf1-996f-4c8b-9465-f3369511f048 button');\n",
              "      quickchartButtonEl.style.display =\n",
              "        google.colab.kernel.accessAllowed ? 'block' : 'none';\n",
              "    })();\n",
              "  </script>\n",
              "</div>\n",
              "    </div>\n",
              "  </div>\n"
            ]
          },
          "metadata": {},
          "execution_count": 5
        }
      ]
    },
    {
      "cell_type": "markdown",
      "source": [
        "# 2. Cleaning the dataset\n",
        "\n",
        "**2.1 Dropping columns and imputing values**\n",
        "\n",
        "First we clean the dataset by dropping columns with 50% or more missing values. We also impute missing values with the median for numerical data."
      ],
      "metadata": {
        "id": "8QLLh0m17cqJ"
      }
    },
    {
      "cell_type": "code",
      "source": [
        "# Dropping columns with 50% or more missing values\n",
        "missing_percentage = df_merged.isnull().mean() * 100\n",
        "columns_to_drop = missing_percentage[missing_percentage > 50].index\n",
        "df_cleaned = df_merged.drop(columns=columns_to_drop)\n",
        "\n",
        "# Imputing missing values for remaining columns\n",
        "for column in df_cleaned.columns:\n",
        "    if df_cleaned[column].isnull().any():\n",
        "        if df_cleaned[column].dtype == 'object':\n",
        "            mode_val = df_cleaned[column].mode()[0]\n",
        "            df_cleaned[column].fillna(mode_val, inplace=True)\n",
        "        else:\n",
        "            median_val = df_cleaned[column].median()\n",
        "            df_cleaned[column].fillna(median_val, inplace=True)"
      ],
      "metadata": {
        "id": "FZSq_Gv6k9kt"
      },
      "execution_count": 6,
      "outputs": []
    },
    {
      "cell_type": "code",
      "source": [
        "df_cleaned.info()"
      ],
      "metadata": {
        "id": "vQhMMA5JlBRe",
        "colab": {
          "base_uri": "https://localhost:8080/"
        },
        "outputId": "c15161d4-d379-4369-e680-ac9518236c45"
      },
      "execution_count": 7,
      "outputs": [
        {
          "output_type": "stream",
          "name": "stdout",
          "text": [
            "<class 'pandas.core.frame.DataFrame'>\n",
            "Int64Index: 8974 entries, 0 to 8973\n",
            "Data columns (total 87 columns):\n",
            " #   Column                              Non-Null Count  Dtype  \n",
            "---  ------                              --------------  -----  \n",
            " 0   Unnamed: 0_x                        8974 non-null   int64  \n",
            " 1   MD-MVM Id                           8974 non-null   int64  \n",
            " 2   Survey station                      8974 non-null   object \n",
            " 3   Latitude                            8974 non-null   float64\n",
            " 4   Longitude                           8974 non-null   float64\n",
            " 5   County                              8974 non-null   object \n",
            " 6   Municipality                        8974 non-null   object \n",
            " 7   MS_CD C3                            8974 non-null   object \n",
            " 8   Date                                8974 non-null   object \n",
            " 9   Year                                8974 non-null   int64  \n",
            " 10  Month                               8974 non-null   int64  \n",
            " 11  Day                                 8974 non-null   int64  \n",
            " 12  SeasonType                          8974 non-null   int64  \n",
            " 13  Season                              8974 non-null   int64  \n",
            " 14  Max sample depth (m)                8974 non-null   float64\n",
            " 15  TOC (mg/l C)                        8974 non-null   float64\n",
            " 16  Turb_FNU (FNU)                      8974 non-null   float64\n",
            " 17  C_phyll (µg/l)                      8974 non-null   float64\n",
            " 18  pH                                  8974 non-null   float64\n",
            " 19  Cond_25 (mS/m)                      8974 non-null   float64\n",
            " 20  Alk/Acid (mekv/l)                   8974 non-null   float64\n",
            " 21  Ca (mekv/l)                         8974 non-null   float64\n",
            " 22  Mg (mekv/l)                         8974 non-null   float64\n",
            " 23  Na (mekv/l)                         8974 non-null   float64\n",
            " 24  K (mekv/l)                          8974 non-null   float64\n",
            " 25  SO4 (mekv/l)                        8974 non-null   float64\n",
            " 26  Cl (mekv/l)                         8974 non-null   float64\n",
            " 27  F (mekv/l)                          8974 non-null   float64\n",
            " 28  NH4-N (µg/l N)                      8974 non-null   float64\n",
            " 29  NO2+NO3-N (µg/l N)                  8974 non-null   float64\n",
            " 30  PO4-P (µg/l P)                      8974 non-null   float64\n",
            " 31  Tot-P (µg/l P)                      8974 non-null   float64\n",
            " 32  Si (mg/l)                           8974 non-null   float64\n",
            " 33  Fe (µg/l)                           8974 non-null   float64\n",
            " 34  Water temp (°C)                     8974 non-null   float64\n",
            " 35  Tot-N (µg/l N)                      8974 non-null   float64\n",
            " 36  Abs_F 420 (/m)                      8974 non-null   float64\n",
            " 37  TOC:TON (mol/l)                     8974 non-null   float64\n",
            " 38  TOC:TOP (mol/l)                     8974 non-null   float64\n",
            " 39  Unnamed: 0_y                        8974 non-null   int64  \n",
            " 40  Altitud                             8974 non-null   float64\n",
            " 41  aro_area                            8974 non-null   float64\n",
            " 42  Skog                                8974 non-null   float64\n",
            " 43  Vatten                              8974 non-null   float64\n",
            " 44  Sankmark                            8974 non-null   float64\n",
            " 45  Hygge                               8974 non-null   float64\n",
            " 46  Öppen_mark                          8974 non-null   float64\n",
            " 47  Jordbruksmark                       8974 non-null   float64\n",
            " 48  source                              8974 non-null   object \n",
            " 49  area_viv1                           8974 non-null   float64\n",
            " 50  dif_vtd12                           8974 non-null   float64\n",
            " 51  dist_vtd1                           8974 non-null   float64\n",
            " 52  x_utlopp                            8974 non-null   int64  \n",
            " 53  y_utlopp                            8974 non-null   int64  \n",
            " 54  elev_utl                            8974 non-null   float64\n",
            " 55  lokal_area                          8974 non-null   int64  \n",
            " 56  total_area                          8974 non-null   int64  \n",
            " 57  vivan1_chk                          8974 non-null   object \n",
            " 58  delaro_chk                          8974 non-null   object \n",
            " 59  FREQUENCY                           8974 non-null   float64\n",
            " 60  slu_id_n_1                          8974 non-null   float64\n",
            " 61  Shape_Length                        8974 non-null   float64\n",
            " 62  Shape_Area                          8974 non-null   float64\n",
            " 63  Nationellt övervakningsstations-ID  8974 non-null   float64\n",
            " 64  SMHI-ID                             8974 non-null   object \n",
            " 65  Stationskoordinat_N_X               8974 non-null   int64  \n",
            " 66  Stationskoordinat_E_Y               8974 non-null   int64  \n",
            " 67  Län                                 8974 non-null   object \n",
            " 68  Kommun                              8974 non-null   object \n",
            " 69  MS_CD_C3                            8974 non-null   object \n",
            " 70  Stationsnamn                        8974 non-null   object \n",
            " 71  EU_id                               8974 non-null   object \n",
            " 72  SWB_TYPES_LW                        8974 non-null   object \n",
            " 73  Mean(MEDDJ)                         8974 non-null   float64\n",
            " 74  Mean(MAXDJ)                         8974 non-null   float64\n",
            " 75  Area_Code                           8974 non-null   object \n",
            " 76  Lake_Area                           8974 non-null   float64\n",
            " 77  Temp 1w avg                         8974 non-null   float64\n",
            " 78  Temp 2w avg                         8974 non-null   float64\n",
            " 79  Temp 4w avg                         8974 non-null   float64\n",
            " 80  Temp 12w avg                        8974 non-null   float64\n",
            " 81  Temp 52w avg                        8974 non-null   float64\n",
            " 82  Precip 1w avg                       8974 non-null   float64\n",
            " 83  Precip 2w avg                       8974 non-null   float64\n",
            " 84  Precip 4w avg                       8974 non-null   float64\n",
            " 85  Precip 12w avg                      8974 non-null   float64\n",
            " 86  Precip 52w avg                      8974 non-null   float64\n",
            "dtypes: float64(57), int64(14), object(16)\n",
            "memory usage: 6.0+ MB\n"
          ]
        }
      ]
    },
    {
      "cell_type": "markdown",
      "source": [
        "**2.2 Calculating correlation**\n",
        "\n",
        "Now we calculate the correlation of all the features with TOC and select significant features i.e. features with correlation > 0."
      ],
      "metadata": {
        "id": "hYqqbFGu88r7"
      }
    },
    {
      "cell_type": "code",
      "source": [
        "# Calculating correlation matrix\n",
        "corr_matrix = df_cleaned.corr()\n",
        "\n",
        "# 'TOC (mg/l C)' is the main feature\n",
        "toc_corr = corr_matrix['TOC (mg/l C)']\n",
        "\n",
        "# Sorting the correlations\n",
        "sorted_toc_corr = toc_corr.sort_values(ascending=False)\n",
        "\n",
        "# Plotting correlations\n",
        "plt.figure(figsize=(10, 8))\n",
        "sns.barplot(y=sorted_toc_corr.index, x=sorted_toc_corr.values)\n",
        "plt.title('Feature Correlation with TOC')\n",
        "plt.xlabel('Correlation Coefficient')\n",
        "plt.ylabel('Features')\n",
        "plt.show()\n",
        "\n",
        "# Selecting features with some significant correlation coefficient i.e. > 0\n",
        "selected_features = sorted_toc_corr[sorted_toc_corr > 0].index.tolist()\n",
        "\n",
        "selected_features.remove('TOC (mg/l C)')\n",
        "\n",
        "selected_features"
      ],
      "metadata": {
        "id": "AndiN0U_lEHo",
        "colab": {
          "base_uri": "https://localhost:8080/",
          "height": 1000
        },
        "outputId": "376c88c7-b12a-48d6-e3f4-12baa311c690"
      },
      "execution_count": 8,
      "outputs": [
        {
          "output_type": "stream",
          "name": "stderr",
          "text": [
            "<ipython-input-8-1f8800cebdb8>:2: FutureWarning: The default value of numeric_only in DataFrame.corr is deprecated. In a future version, it will default to False. Select only valid columns or specify the value of numeric_only to silence this warning.\n",
            "  corr_matrix = df_cleaned.corr()\n"
          ]
        },
        {
          "output_type": "display_data",
          "data": {
            "text/plain": [
              "<Figure size 1000x800 with 1 Axes>"
            ],
            "image/png": "[encoded data removed]"
          },
          "metadata": {}
        },
        {
          "output_type": "execute_result",
          "data": {
            "text/plain": [
              "['Abs_F 420 (/m)',\n",
              " 'Tot-N (µg/l N)',\n",
              " 'Fe (µg/l)',\n",
              " 'Si (mg/l)',\n",
              " 'Temp 52w avg',\n",
              " 'Tot-P (µg/l P)',\n",
              " 'Stationskoordinat_E_Y',\n",
              " 'C_phyll (µg/l)',\n",
              " 'NH4-N (µg/l N)',\n",
              " 'PO4-P (µg/l P)',\n",
              " 'Turb_FNU (FNU)',\n",
              " 'Sankmark',\n",
              " 'TOC:TON (mol/l)',\n",
              " 'Na (mekv/l)',\n",
              " 'Cl (mekv/l)',\n",
              " 'Skog',\n",
              " 'K (mekv/l)',\n",
              " 'Mg (mekv/l)',\n",
              " 'Stationskoordinat_N_X',\n",
              " 'Cond_25 (mS/m)',\n",
              " 'Precip 52w avg',\n",
              " 'F (mekv/l)',\n",
              " 'Öppen_mark',\n",
              " 'Unnamed: 0_y',\n",
              " 'Ca (mekv/l)',\n",
              " 'TOC:TOP (mol/l)',\n",
              " 'NO2+NO3-N (µg/l N)',\n",
              " 'Jordbruksmark',\n",
              " 'Precip 12w avg',\n",
              " 'Year',\n",
              " 'Temp 12w avg',\n",
              " 'Alk/Acid (mekv/l)',\n",
              " 'SO4 (mekv/l)',\n",
              " 'Mean(MAXDJ)',\n",
              " 'Water temp (°C)',\n",
              " 'Mean(MEDDJ)',\n",
              " 'Temp 4w avg',\n",
              " 'Precip 4w avg']"
            ]
          },
          "metadata": {},
          "execution_count": 8
        }
      ]
    },
    {
      "cell_type": "code",
      "source": [
        "# updating dataframe to only include selected features\n",
        "df_cleaned = df_cleaned[selected_features + ['TOC (mg/l C)']]\n",
        "\n",
        "df_cleaned.head()"
      ],
      "metadata": {
        "colab": {
          "base_uri": "https://localhost:8080/",
          "height": 290
        },
        "id": "tL3a0QGQfFua",
        "outputId": "c22b1c41-302b-474b-bf43-df058e2088c5"
      },
      "execution_count": 9,
      "outputs": [
        {
          "output_type": "execute_result",
          "data": {
            "text/plain": [
              "   Abs_F 420 (/m)  Tot-N (µg/l N)  Fe (µg/l)  Si (mg/l)  Temp 52w avg  \\\n",
              "0            1.06           409.0       40.0       2.27      5.641209   \n",
              "1            1.02           360.0       43.0       1.62      5.380220   \n",
              "2            0.58           195.0       19.0       1.73      5.734890   \n",
              "3            0.70           383.0       41.0       1.72      5.856319   \n",
              "4            0.70           385.0       36.0       1.89      5.262912   \n",
              "\n",
              "   Tot-P (µg/l P)  Stationskoordinat_E_Y  C_phyll (µg/l)  NH4-N (µg/l N)  \\\n",
              "0             8.0                 763500             0.9            62.0   \n",
              "1             5.0                 763500             1.5             9.0   \n",
              "2             5.0                 763500             2.1             8.0   \n",
              "3             8.0                 763500             2.4             9.0   \n",
              "4             8.0                 763500             1.0            40.0   \n",
              "\n",
              "   PO4-P (µg/l P)  ...  Year  Temp 12w avg  Alk/Acid (mekv/l)  SO4 (mekv/l)  \\\n",
              "0             1.0  ...  2001     -5.066667              0.078         0.131   \n",
              "1             1.0  ...  2001      2.153571              0.061         0.111   \n",
              "2             1.0  ...  2001     15.752381              0.075         0.116   \n",
              "3             2.0  ...  2001     12.829762              0.075         0.108   \n",
              "4             1.0  ...  2002     -4.617857              0.075         0.118   \n",
              "\n",
              "   Mean(MAXDJ)  Water temp (°C)  Mean(MEDDJ)  Temp 4w avg  Precip 4w avg  \\\n",
              "0         3.85              0.6          1.5    -4.192857       1.614286   \n",
              "1         3.85             10.2          1.5     9.578571       1.614286   \n",
              "2         3.85             18.6          1.5    15.828571       1.614286   \n",
              "3         3.85             10.3          1.5     8.985714       1.614286   \n",
              "4         3.85              1.5          1.5    -1.850000       1.614286   \n",
              "\n",
              "   TOC (mg/l C)  \n",
              "0           5.3  \n",
              "1           4.1  \n",
              "2           8.5  \n",
              "3           4.3  \n",
              "4           4.8  \n",
              "\n",
              "[5 rows x 39 columns]"
            ],
            "text/html": [
              "\n",
              "  <div id=\"df-f8eebf80-87cd-4a44-a051-3bd0c228fafd\" class=\"colab-df-container\">\n",
              "    <div>\n",
              "<style scoped>\n",
              "    .dataframe tbody tr th:only-of-type {\n",
              "        vertical-align: middle;\n",
              "    }\n",
              "\n",
              "    .dataframe tbody tr th {\n",
              "        vertical-align: top;\n",
              "    }\n",
              "\n",
              "    .dataframe thead th {\n",
              "        text-align: right;\n",
              "    }\n",
              "</style>\n",
              "<table border=\"1\" class=\"dataframe\">\n",
              "  <thead>\n",
              "    <tr style=\"text-align: right;\">\n",
              "      <th></th>\n",
              "      <th>Abs_F 420 (/m)</th>\n",
              "      <th>Tot-N (µg/l N)</th>\n",
              "      <th>Fe (µg/l)</th>\n",
              "      <th>Si (mg/l)</th>\n",
              "      <th>Temp 52w avg</th>\n",
              "      <th>Tot-P (µg/l P)</th>\n",
              "      <th>Stationskoordinat_E_Y</th>\n",
              "      <th>C_phyll (µg/l)</th>\n",
              "      <th>NH4-N (µg/l N)</th>\n",
              "      <th>PO4-P (µg/l P)</th>\n",
              "      <th>...</th>\n",
              "      <th>Year</th>\n",
              "      <th>Temp 12w avg</th>\n",
              "      <th>Alk/Acid (mekv/l)</th>\n",
              "      <th>SO4 (mekv/l)</th>\n",
              "      <th>Mean(MAXDJ)</th>\n",
              "      <th>Water temp (°C)</th>\n",
              "      <th>Mean(MEDDJ)</th>\n",
              "      <th>Temp 4w avg</th>\n",
              "      <th>Precip 4w avg</th>\n",
              "      <th>TOC (mg/l C)</th>\n",
              "    </tr>\n",
              "  </thead>\n",
              "  <tbody>\n",
              "    <tr>\n",
              "      <th>0</th>\n",
              "      <td>1.06</td>\n",
              "      <td>409.0</td>\n",
              "      <td>40.0</td>\n",
              "      <td>2.27</td>\n",
              "      <td>5.641209</td>\n",
              "      <td>8.0</td>\n",
              "      <td>763500</td>\n",
              "      <td>0.9</td>\n",
              "      <td>62.0</td>\n",
              "      <td>1.0</td>\n",
              "      <td>...</td>\n",
              "      <td>2001</td>\n",
              "      <td>-5.066667</td>\n",
              "      <td>0.078</td>\n",
              "      <td>0.131</td>\n",
              "      <td>3.85</td>\n",
              "      <td>0.6</td>\n",
              "      <td>1.5</td>\n",
              "      <td>-4.192857</td>\n",
              "      <td>1.614286</td>\n",
              "      <td>5.3</td>\n",
              "    </tr>\n",
              "    <tr>\n",
              "      <th>1</th>\n",
              "      <td>1.02</td>\n",
              "      <td>360.0</td>\n",
              "      <td>43.0</td>\n",
              "      <td>1.62</td>\n",
              "      <td>5.380220</td>\n",
              "      <td>5.0</td>\n",
              "      <td>763500</td>\n",
              "      <td>1.5</td>\n",
              "      <td>9.0</td>\n",
              "      <td>1.0</td>\n",
              "      <td>...</td>\n",
              "      <td>2001</td>\n",
              "      <td>2.153571</td>\n",
              "      <td>0.061</td>\n",
              "      <td>0.111</td>\n",
              "      <td>3.85</td>\n",
              "      <td>10.2</td>\n",
              "      <td>1.5</td>\n",
              "      <td>9.578571</td>\n",
              "      <td>1.614286</td>\n",
              "      <td>4.1</td>\n",
              "    </tr>\n",
              "    <tr>\n",
              "      <th>2</th>\n",
              "      <td>0.58</td>\n",
              "      <td>195.0</td>\n",
              "      <td>19.0</td>\n",
              "      <td>1.73</td>\n",
              "      <td>5.734890</td>\n",
              "      <td>5.0</td>\n",
              "      <td>763500</td>\n",
              "      <td>2.1</td>\n",
              "      <td>8.0</td>\n",
              "      <td>1.0</td>\n",
              "      <td>...</td>\n",
              "      <td>2001</td>\n",
              "      <td>15.752381</td>\n",
              "      <td>0.075</td>\n",
              "      <td>0.116</td>\n",
              "      <td>3.85</td>\n",
              "      <td>18.6</td>\n",
              "      <td>1.5</td>\n",
              "      <td>15.828571</td>\n",
              "      <td>1.614286</td>\n",
              "      <td>8.5</td>\n",
              "    </tr>\n",
              "    <tr>\n",
              "      <th>3</th>\n",
              "      <td>0.70</td>\n",
              "      <td>383.0</td>\n",
              "      <td>41.0</td>\n",
              "      <td>1.72</td>\n",
              "      <td>5.856319</td>\n",
              "      <td>8.0</td>\n",
              "      <td>763500</td>\n",
              "      <td>2.4</td>\n",
              "      <td>9.0</td>\n",
              "      <td>2.0</td>\n",
              "      <td>...</td>\n",
              "      <td>2001</td>\n",
              "      <td>12.829762</td>\n",
              "      <td>0.075</td>\n",
              "      <td>0.108</td>\n",
              "      <td>3.85</td>\n",
              "      <td>10.3</td>\n",
              "      <td>1.5</td>\n",
              "      <td>8.985714</td>\n",
              "      <td>1.614286</td>\n",
              "      <td>4.3</td>\n",
              "    </tr>\n",
              "    <tr>\n",
              "      <th>4</th>\n",
              "      <td>0.70</td>\n",
              "      <td>385.0</td>\n",
              "      <td>36.0</td>\n",
              "      <td>1.89</td>\n",
              "      <td>5.262912</td>\n",
              "      <td>8.0</td>\n",
              "      <td>763500</td>\n",
              "      <td>1.0</td>\n",
              "      <td>40.0</td>\n",
              "      <td>1.0</td>\n",
              "      <td>...</td>\n",
              "      <td>2002</td>\n",
              "      <td>-4.617857</td>\n",
              "      <td>0.075</td>\n",
              "      <td>0.118</td>\n",
              "      <td>3.85</td>\n",
              "      <td>1.5</td>\n",
              "      <td>1.5</td>\n",
              "      <td>-1.850000</td>\n",
              "      <td>1.614286</td>\n",
              "      <td>4.8</td>\n",
              "    </tr>\n",
              "  </tbody>\n",
              "</table>\n",
              "<p>5 rows × 39 columns</p>\n",
              "</div>\n",
              "    <div class=\"colab-df-buttons\">\n",
              "\n",
              "  <div class=\"colab-df-container\">\n",
              "    <button class=\"colab-df-convert\" onclick=\"convertToInteractive('df-f8eebf80-87cd-4a44-a051-3bd0c228fafd')\"\n",
              "            title=\"Convert this dataframe to an interactive table.\"\n",
              "            style=\"display:none;\">\n",
              "\n",
              "  <svg xmlns=\"http://www.w3.org/2000/svg\" height=\"24px\" viewBox=\"0 -960 960 960\">\n",
              "    <path d=\"M120-120v-720h720v720H120Zm60-500h600v-160H180v160Zm220 220h160v-160H400v160Zm0 220h160v-160H400v160ZM180-400h160v-160H180v160Zm440 0h160v-160H620v160ZM180-180h160v-160H180v160Zm440 0h160v-160H620v160Z\"/>\n",
              "  </svg>\n",
              "    </button>\n",
              "\n",
              "  <style>\n",
              "    .colab-df-container {\n",
              "      display:flex;\n",
              "      gap: 12px;\n",
              "    }\n",
              "\n",
              "    .colab-df-convert {\n",
              "      background-color: #E8F0FE;\n",
              "      border: none;\n",
              "      border-radius: 50%;\n",
              "      cursor: pointer;\n",
              "      display: none;\n",
              "      fill: #1967D2;\n",
              "      height: 32px;\n",
              "      padding: 0 0 0 0;\n",
              "      width: 32px;\n",
              "    }\n",
              "\n",
              "    .colab-df-convert:hover {\n",
              "      background-color: #E2EBFA;\n",
              "      box-shadow: 0px 1px 2px rgba(60, 64, 67, 0.3), 0px 1px 3px 1px rgba(60, 64, 67, 0.15);\n",
              "      fill: #174EA6;\n",
              "    }\n",
              "\n",
              "    .colab-df-buttons div {\n",
              "      margin-bottom: 4px;\n",
              "    }\n",
              "\n",
              "    [theme=dark] .colab-df-convert {\n",
              "      background-color: #3B4455;\n",
              "      fill: #D2E3FC;\n",
              "    }\n",
              "\n",
              "    [theme=dark] .colab-df-convert:hover {\n",
              "      background-color: #434B5C;\n",
              "      box-shadow: 0px 1px 3px 1px rgba(0, 0, 0, 0.15);\n",
              "      filter: drop-shadow(0px 1px 2px rgba(0, 0, 0, 0.3));\n",
              "      fill: #FFFFFF;\n",
              "    }\n",
              "  </style>\n",
              "\n",
              "    <script>\n",
              "      const buttonEl =\n",
              "        document.querySelector('#df-f8eebf80-87cd-4a44-a051-3bd0c228fafd button.colab-df-convert');\n",
              "      buttonEl.style.display =\n",
              "        google.colab.kernel.accessAllowed ? 'block' : 'none';\n",
              "\n",
              "      async function convertToInteractive(key) {\n",
              "        const element = document.querySelector('#df-f8eebf80-87cd-4a44-a051-3bd0c228fafd');\n",
              "        const dataTable =\n",
              "          await google.colab.kernel.invokeFunction('convertToInteractive',\n",
              "                                                    [key], {});\n",
              "        if (!dataTable) return;\n",
              "\n",
              "        const docLinkHtml = 'Like what you see? Visit the ' +\n",
              "          '<a target=\"_blank\" href=https://colab.research.google.com/notebooks/data_table.ipynb>data table notebook</a>'\n",
              "          + ' to learn more about interactive tables.';\n",
              "        element.innerHTML = '';\n",
              "        dataTable['output_type'] = 'display_data';\n",
              "        await google.colab.output.renderOutput(dataTable, element);\n",
              "        const docLink = document.createElement('div');\n",
              "        docLink.innerHTML = docLinkHtml;\n",
              "        element.appendChild(docLink);\n",
              "      }\n",
              "    </script>\n",
              "  </div>\n",
              "\n",
              "\n",
              "<div id=\"df-6f57a8c6-6511-40af-8b13-06ec75bafb45\">\n",
              "  <button class=\"colab-df-quickchart\" onclick=\"quickchart('df-6f57a8c6-6511-40af-8b13-06ec75bafb45')\"\n",
              "            title=\"Suggest charts\"\n",
              "            style=\"display:none;\">\n",
              "\n",
              "<svg xmlns=\"http://www.w3.org/2000/svg\" height=\"24px\"viewBox=\"0 0 24 24\"\n",
              "     width=\"24px\">\n",
              "    <g>\n",
              "        <path d=\"M19 3H5c-1.1 0-2 .9-2 2v14c0 1.1.9 2 2 2h14c1.1 0 2-.9 2-2V5c0-1.1-.9-2-2-2zM9 17H7v-7h2v7zm4 0h-2V7h2v10zm4 0h-2v-4h2v4z\"/>\n",
              "    </g>\n",
              "</svg>\n",
              "  </button>\n",
              "\n",
              "<style>\n",
              "  .colab-df-quickchart {\n",
              "      --bg-color: #E8F0FE;\n",
              "      --fill-color: #1967D2;\n",
              "      --hover-bg-color: #E2EBFA;\n",
              "      --hover-fill-color: #174EA6;\n",
              "      --disabled-fill-color: #AAA;\n",
              "      --disabled-bg-color: #DDD;\n",
              "  }\n",
              "\n",
              "  [theme=dark] .colab-df-quickchart {\n",
              "      --bg-color: #3B4455;\n",
              "      --fill-color: #D2E3FC;\n",
              "      --hover-bg-color: #434B5C;\n",
              "      --hover-fill-color: #FFFFFF;\n",
              "      --disabled-bg-color: #3B4455;\n",
              "      --disabled-fill-color: #666;\n",
              "  }\n",
              "\n",
              "  .colab-df-quickchart {\n",
              "    background-color: var(--bg-color);\n",
              "    border: none;\n",
              "    border-radius: 50%;\n",
              "    cursor: pointer;\n",
              "    display: none;\n",
              "    fill: var(--fill-color);\n",
              "    height: 32px;\n",
              "    padding: 0;\n",
              "    width: 32px;\n",
              "  }\n",
              "\n",
              "  .colab-df-quickchart:hover {\n",
              "    background-color: var(--hover-bg-color);\n",
              "    box-shadow: 0 1px 2px rgba(60, 64, 67, 0.3), 0 1px 3px 1px rgba(60, 64, 67, 0.15);\n",
              "    fill: var(--button-hover-fill-color);\n",
              "  }\n",
              "\n",
              "  .colab-df-quickchart-complete:disabled,\n",
              "  .colab-df-quickchart-complete:disabled:hover {\n",
              "    background-color: var(--disabled-bg-color);\n",
              "    fill: var(--disabled-fill-color);\n",
              "    box-shadow: none;\n",
              "  }\n",
              "\n",
              "  .colab-df-spinner {\n",
              "    border: 2px solid var(--fill-color);\n",
              "    border-color: transparent;\n",
              "    border-bottom-color: var(--fill-color);\n",
              "    animation:\n",
              "      spin 1s steps(1) infinite;\n",
              "  }\n",
              "\n",
              "  @keyframes spin {\n",
              "    0% {\n",
              "      border-color: transparent;\n",
              "      border-bottom-color: var(--fill-color);\n",
              "      border-left-color: var(--fill-color);\n",
              "    }\n",
              "    20% {\n",
              "      border-color: transparent;\n",
              "      border-left-color: var(--fill-color);\n",
              "      border-top-color: var(--fill-color);\n",
              "    }\n",
              "    30% {\n",
              "      border-color: transparent;\n",
              "      border-left-color: var(--fill-color);\n",
              "      border-top-color: var(--fill-color);\n",
              "      border-right-color: var(--fill-color);\n",
              "    }\n",
              "    40% {\n",
              "      border-color: transparent;\n",
              "      border-right-color: var(--fill-color);\n",
              "      border-top-color: var(--fill-color);\n",
              "    }\n",
              "    60% {\n",
              "      border-color: transparent;\n",
              "      border-right-color: var(--fill-color);\n",
              "    }\n",
              "    80% {\n",
              "      border-color: transparent;\n",
              "      border-right-color: var(--fill-color);\n",
              "      border-bottom-color: var(--fill-color);\n",
              "    }\n",
              "    90% {\n",
              "      border-color: transparent;\n",
              "      border-bottom-color: var(--fill-color);\n",
              "    }\n",
              "  }\n",
              "</style>\n",
              "\n",
              "  <script>\n",
              "    async function quickchart(key) {\n",
              "      const quickchartButtonEl =\n",
              "        document.querySelector('#' + key + ' button');\n",
              "      quickchartButtonEl.disabled = true;  // To prevent multiple clicks.\n",
              "      quickchartButtonEl.classList.add('colab-df-spinner');\n",
              "      try {\n",
              "        const charts = await google.colab.kernel.invokeFunction(\n",
              "            'suggestCharts', [key], {});\n",
              "      } catch (error) {\n",
              "        console.error('Error during call to suggestCharts:', error);\n",
              "      }\n",
              "      quickchartButtonEl.classList.remove('colab-df-spinner');\n",
              "      quickchartButtonEl.classList.add('colab-df-quickchart-complete');\n",
              "    }\n",
              "    (() => {\n",
              "      let quickchartButtonEl =\n",
              "        document.querySelector('#df-6f57a8c6-6511-40af-8b13-06ec75bafb45 button');\n",
              "      quickchartButtonEl.style.display =\n",
              "        google.colab.kernel.accessAllowed ? 'block' : 'none';\n",
              "    })();\n",
              "  </script>\n",
              "</div>\n",
              "    </div>\n",
              "  </div>\n"
            ]
          },
          "metadata": {},
          "execution_count": 9
        }
      ]
    },
    {
      "cell_type": "code",
      "source": [
        "df_cleaned.info()"
      ],
      "metadata": {
        "colab": {
          "base_uri": "https://localhost:8080/"
        },
        "id": "jy4KdUr7f2_E",
        "outputId": "679aeff2-a368-48c2-f859-01b951c745a9"
      },
      "execution_count": 10,
      "outputs": [
        {
          "output_type": "stream",
          "name": "stdout",
          "text": [
            "<class 'pandas.core.frame.DataFrame'>\n",
            "Int64Index: 8974 entries, 0 to 8973\n",
            "Data columns (total 39 columns):\n",
            " #   Column                 Non-Null Count  Dtype  \n",
            "---  ------                 --------------  -----  \n",
            " 0   Abs_F 420 (/m)         8974 non-null   float64\n",
            " 1   Tot-N (µg/l N)         8974 non-null   float64\n",
            " 2   Fe (µg/l)              8974 non-null   float64\n",
            " 3   Si (mg/l)              8974 non-null   float64\n",
            " 4   Temp 52w avg           8974 non-null   float64\n",
            " 5   Tot-P (µg/l P)         8974 non-null   float64\n",
            " 6   Stationskoordinat_E_Y  8974 non-null   int64  \n",
            " 7   C_phyll (µg/l)         8974 non-null   float64\n",
            " 8   NH4-N (µg/l N)         8974 non-null   float64\n",
            " 9   PO4-P (µg/l P)         8974 non-null   float64\n",
            " 10  Turb_FNU (FNU)         8974 non-null   float64\n",
            " 11  Sankmark               8974 non-null   float64\n",
            " 12  TOC:TON (mol/l)        8974 non-null   float64\n",
            " 13  Na (mekv/l)            8974 non-null   float64\n",
            " 14  Cl (mekv/l)            8974 non-null   float64\n",
            " 15  Skog                   8974 non-null   float64\n",
            " 16  K (mekv/l)             8974 non-null   float64\n",
            " 17  Mg (mekv/l)            8974 non-null   float64\n",
            " 18  Stationskoordinat_N_X  8974 non-null   int64  \n",
            " 19  Cond_25 (mS/m)         8974 non-null   float64\n",
            " 20  Precip 52w avg         8974 non-null   float64\n",
            " 21  F (mekv/l)             8974 non-null   float64\n",
            " 22  Öppen_mark             8974 non-null   float64\n",
            " 23  Unnamed: 0_y           8974 non-null   int64  \n",
            " 24  Ca (mekv/l)            8974 non-null   float64\n",
            " 25  TOC:TOP (mol/l)        8974 non-null   float64\n",
            " 26  NO2+NO3-N (µg/l N)     8974 non-null   float64\n",
            " 27  Jordbruksmark          8974 non-null   float64\n",
            " 28  Precip 12w avg         8974 non-null   float64\n",
            " 29  Year                   8974 non-null   int64  \n",
            " 30  Temp 12w avg           8974 non-null   float64\n",
            " 31  Alk/Acid (mekv/l)      8974 non-null   float64\n",
            " 32  SO4 (mekv/l)           8974 non-null   float64\n",
            " 33  Mean(MAXDJ)            8974 non-null   float64\n",
            " 34  Water temp (°C)        8974 non-null   float64\n",
            " 35  Mean(MEDDJ)            8974 non-null   float64\n",
            " 36  Temp 4w avg            8974 non-null   float64\n",
            " 37  Precip 4w avg          8974 non-null   float64\n",
            " 38  TOC (mg/l C)           8974 non-null   float64\n",
            "dtypes: float64(35), int64(4)\n",
            "memory usage: 2.7 MB\n"
          ]
        }
      ]
    },
    {
      "cell_type": "code",
      "source": [
        "# Dropping unnamed columns\n",
        "df_cleaned.drop(['Unnamed: 0_y'], axis=1, inplace=True)"
      ],
      "metadata": {
        "id": "fRbklVpMlJZD",
        "colab": {
          "base_uri": "https://localhost:8080/"
        },
        "outputId": "04e31516-83c1-4ac1-f40e-1ae5acc0e442"
      },
      "execution_count": 11,
      "outputs": [
        {
          "output_type": "stream",
          "name": "stderr",
          "text": [
            "<ipython-input-11-46877b1c524c>:2: SettingWithCopyWarning: \n",
            "A value is trying to be set on a copy of a slice from a DataFrame\n",
            "\n",
            "See the caveats in the documentation: https://pandas.pydata.org/pandas-docs/stable/user_guide/indexing.html#returning-a-view-versus-a-copy\n",
            "  df_cleaned.drop(['Unnamed: 0_y'], axis=1, inplace=True)\n"
          ]
        }
      ]
    },
    {
      "cell_type": "code",
      "source": [
        "df_cleaned.info()"
      ],
      "metadata": {
        "id": "-UG_0tj9lNgX",
        "colab": {
          "base_uri": "https://localhost:8080/"
        },
        "outputId": "cb7fa22f-b483-4066-e95f-d549dbbc7d2f"
      },
      "execution_count": 12,
      "outputs": [
        {
          "output_type": "stream",
          "name": "stdout",
          "text": [
            "<class 'pandas.core.frame.DataFrame'>\n",
            "Int64Index: 8974 entries, 0 to 8973\n",
            "Data columns (total 38 columns):\n",
            " #   Column                 Non-Null Count  Dtype  \n",
            "---  ------                 --------------  -----  \n",
            " 0   Abs_F 420 (/m)         8974 non-null   float64\n",
            " 1   Tot-N (µg/l N)         8974 non-null   float64\n",
            " 2   Fe (µg/l)              8974 non-null   float64\n",
            " 3   Si (mg/l)              8974 non-null   float64\n",
            " 4   Temp 52w avg           8974 non-null   float64\n",
            " 5   Tot-P (µg/l P)         8974 non-null   float64\n",
            " 6   Stationskoordinat_E_Y  8974 non-null   int64  \n",
            " 7   C_phyll (µg/l)         8974 non-null   float64\n",
            " 8   NH4-N (µg/l N)         8974 non-null   float64\n",
            " 9   PO4-P (µg/l P)         8974 non-null   float64\n",
            " 10  Turb_FNU (FNU)         8974 non-null   float64\n",
            " 11  Sankmark               8974 non-null   float64\n",
            " 12  TOC:TON (mol/l)        8974 non-null   float64\n",
            " 13  Na (mekv/l)            8974 non-null   float64\n",
            " 14  Cl (mekv/l)            8974 non-null   float64\n",
            " 15  Skog                   8974 non-null   float64\n",
            " 16  K (mekv/l)             8974 non-null   float64\n",
            " 17  Mg (mekv/l)            8974 non-null   float64\n",
            " 18  Stationskoordinat_N_X  8974 non-null   int64  \n",
            " 19  Cond_25 (mS/m)         8974 non-null   float64\n",
            " 20  Precip 52w avg         8974 non-null   float64\n",
            " 21  F (mekv/l)             8974 non-null   float64\n",
            " 22  Öppen_mark             8974 non-null   float64\n",
            " 23  Ca (mekv/l)            8974 non-null   float64\n",
            " 24  TOC:TOP (mol/l)        8974 non-null   float64\n",
            " 25  NO2+NO3-N (µg/l N)     8974 non-null   float64\n",
            " 26  Jordbruksmark          8974 non-null   float64\n",
            " 27  Precip 12w avg         8974 non-null   float64\n",
            " 28  Year                   8974 non-null   int64  \n",
            " 29  Temp 12w avg           8974 non-null   float64\n",
            " 30  Alk/Acid (mekv/l)      8974 non-null   float64\n",
            " 31  SO4 (mekv/l)           8974 non-null   float64\n",
            " 32  Mean(MAXDJ)            8974 non-null   float64\n",
            " 33  Water temp (°C)        8974 non-null   float64\n",
            " 34  Mean(MEDDJ)            8974 non-null   float64\n",
            " 35  Temp 4w avg            8974 non-null   float64\n",
            " 36  Precip 4w avg          8974 non-null   float64\n",
            " 37  TOC (mg/l C)           8974 non-null   float64\n",
            "dtypes: float64(35), int64(3)\n",
            "memory usage: 2.7 MB\n"
          ]
        }
      ]
    },
    {
      "cell_type": "markdown",
      "source": [
        "**2.3 Calculating VIF**\n",
        "\n",
        "Finally we calculate the Variance Inflation Factor (VIF) to check the multicollinearity and to ensure the robustness of our model."
      ],
      "metadata": {
        "id": "2RJX1oM19h1o"
      }
    },
    {
      "cell_type": "code",
      "source": [
        "scaler = StandardScaler()\n",
        "\n",
        "# Identifying numeric columns\n",
        "numeric_cols = df_cleaned.select_dtypes(include=[np.number]).columns.tolist()\n",
        "\n",
        "# Checking for Infinite Values\n",
        "print(\"Infinite values in each column:\\n\", np.isinf(df_cleaned[numeric_cols]).sum())\n",
        "\n",
        "# Replacing Infinite Values with NaN\n",
        "df_cleaned[numeric_cols] = df_cleaned[numeric_cols].replace([np.inf, -np.inf], np.nan)\n",
        "\n",
        "# Handling NaN Values\n",
        "for column in numeric_cols:\n",
        "    if df_cleaned[column].isnull().any():\n",
        "        median_val = df_cleaned[column].median()\n",
        "        df_cleaned[column].fillna(median_val, inplace=True)\n",
        "\n",
        "df_cleaned[numeric_cols] = scaler.fit_transform(df_cleaned[numeric_cols])\n",
        "\n",
        "# VIF Calculation\n",
        "vif = pd.DataFrame()\n",
        "vif[\"variables\"] = numeric_cols\n",
        "vif[\"VIF\"] = [variance_inflation_factor(df_cleaned[numeric_cols].values, i) for i in range(df_cleaned[numeric_cols].shape[1])]\n",
        "\n",
        "print(vif)\n"
      ],
      "metadata": {
        "id": "jb2i6ZfElPZY",
        "colab": {
          "base_uri": "https://localhost:8080/"
        },
        "outputId": "441df27d-318c-4f5b-add2-95cf09d1764b"
      },
      "execution_count": 13,
      "outputs": [
        {
          "output_type": "stream",
          "name": "stdout",
          "text": [
            "Infinite values in each column:\n",
            " Abs_F 420 (/m)             0\n",
            "Tot-N (µg/l N)             0\n",
            "Fe (µg/l)                  0\n",
            "Si (mg/l)                  0\n",
            "Temp 52w avg               0\n",
            "Tot-P (µg/l P)             0\n",
            "Stationskoordinat_E_Y      0\n",
            "C_phyll (µg/l)             0\n",
            "NH4-N (µg/l N)             0\n",
            "PO4-P (µg/l P)             0\n",
            "Turb_FNU (FNU)             0\n",
            "Sankmark                   0\n",
            "TOC:TON (mol/l)            0\n",
            "Na (mekv/l)                0\n",
            "Cl (mekv/l)                0\n",
            "Skog                       0\n",
            "K (mekv/l)                 0\n",
            "Mg (mekv/l)                0\n",
            "Stationskoordinat_N_X      0\n",
            "Cond_25 (mS/m)             0\n",
            "Precip 52w avg             0\n",
            "F (mekv/l)                 0\n",
            "Öppen_mark                 0\n",
            "Ca (mekv/l)                0\n",
            "TOC:TOP (mol/l)          125\n",
            "NO2+NO3-N (µg/l N)         0\n",
            "Jordbruksmark              0\n",
            "Precip 12w avg             0\n",
            "Year                       0\n",
            "Temp 12w avg               0\n",
            "Alk/Acid (mekv/l)          0\n",
            "SO4 (mekv/l)               0\n",
            "Mean(MAXDJ)                0\n",
            "Water temp (°C)            0\n",
            "Mean(MEDDJ)                0\n",
            "Temp 4w avg                0\n",
            "Precip 4w avg              0\n",
            "TOC (mg/l C)               0\n",
            "dtype: int64\n",
            "                variables         VIF\n",
            "0          Abs_F 420 (/m)   10.204298\n",
            "1          Tot-N (µg/l N)   13.866229\n",
            "2               Fe (µg/l)    3.312838\n",
            "3               Si (mg/l)    1.912686\n",
            "4            Temp 52w avg    2.295883\n",
            "5          Tot-P (µg/l P)    6.328077\n",
            "6   Stationskoordinat_E_Y    1.724731\n",
            "7          C_phyll (µg/l)    1.835827\n",
            "8          NH4-N (µg/l N)    1.975228\n",
            "9          PO4-P (µg/l P)    3.304565\n",
            "10         Turb_FNU (FNU)    1.753086\n",
            "11               Sankmark    2.204213\n",
            "12        TOC:TON (mol/l)    1.324810\n",
            "13            Na (mekv/l)   66.095599\n",
            "14            Cl (mekv/l)   58.059704\n",
            "15                   Skog    2.873354\n",
            "16             K (mekv/l)   10.045814\n",
            "17            Mg (mekv/l)   31.368614\n",
            "18  Stationskoordinat_N_X    1.854260\n",
            "19         Cond_25 (mS/m)  409.538304\n",
            "20         Precip 52w avg    1.928580\n",
            "21             F (mekv/l)    1.877848\n",
            "22             Öppen_mark    1.976294\n",
            "23            Ca (mekv/l)  280.695788\n",
            "24        TOC:TOP (mol/l)    1.184508\n",
            "25     NO2+NO3-N (µg/l N)    5.595831\n",
            "26          Jordbruksmark    6.274477\n",
            "27         Precip 12w avg    2.759742\n",
            "28                   Year    1.244745\n",
            "29           Temp 12w avg    7.614900\n",
            "30      Alk/Acid (mekv/l)  286.313508\n",
            "31           SO4 (mekv/l)   47.134358\n",
            "32            Mean(MAXDJ)    5.275423\n",
            "33        Water temp (°C)    4.357114\n",
            "34            Mean(MEDDJ)    5.142422\n",
            "35            Temp 4w avg   11.405842\n",
            "36          Precip 4w avg    1.939118\n",
            "37           TOC (mg/l C)    9.759160\n"
          ]
        }
      ]
    },
    {
      "cell_type": "markdown",
      "source": [
        "# 3. Training and Testing GAM model\n",
        "\n",
        "**Initial Run**\n",
        "\n",
        "We use ***LinearGAM*** model from the ***pygam*** library for predicting the *TOC*. In our initial run we split our cleaned dataset into training and testing sets. We also drop the categorical columns since they have no significance in predicting TOC and we want to only use numerical data. We also calculate the R^2, sMAPE and Accuracy on test set."
      ],
      "metadata": {
        "id": "--d_FNqr-tTx"
      }
    },
    {
      "cell_type": "code",
      "source": [
        "# calculating sMAPE\n",
        "def smape(true, pred):\n",
        "    denominator = np.abs(true) + np.abs(pred)\n",
        "    diff = np.abs(true - pred) / denominator\n",
        "    diff[denominator == 0] = 0.0\n",
        "    return 200 * np.mean(diff)"
      ],
      "metadata": {
        "id": "hT2n_hCGYyz7"
      },
      "execution_count": 14,
      "outputs": []
    },
    {
      "cell_type": "code",
      "source": [
        "# Splitting the data into features and target\n",
        "X = df_cleaned.drop('TOC (mg/l C)', axis=1)\n",
        "y = df_cleaned['TOC (mg/l C)']\n",
        "\n",
        "# Splitting the data into training and testing sets\n",
        "X_train, X_test, y_train, y_test = train_test_split(X, y, test_size=0.3, random_state=42)\n",
        "\n",
        "# Dropping Categorical Features\n",
        "categorical_cols = X_train.select_dtypes(include=['object']).columns\n",
        "\n",
        "X_train = X_train.drop(columns=categorical_cols)\n",
        "X_test = X_test.drop(columns=categorical_cols)\n",
        "\n",
        "# Fitting the GAM model using a default spline for all features\n",
        "gam = LinearGAM().gridsearch(X_train.values, y_train.values)\n",
        "\n",
        "# Predicting on the test set\n",
        "y_pred = gam.predict(X_test)\n",
        "\n",
        "# Calculating the metrics\n",
        "r2 = explained_variance_score(y_test, y_pred)\n",
        "smape_value = smape(y_test, y_pred)\n",
        "accuracy = 1 - smape_value / 100\n",
        "\n",
        "print(f'R^2: {r2:.4f}')\n",
        "print(f'sMAPE: {smape_value:.4f}')\n",
        "print(f'Accuracy: {accuracy:.4f}')\n"
      ],
      "metadata": {
        "id": "po_D1MyPmors",
        "colab": {
          "base_uri": "https://localhost:8080/"
        },
        "outputId": "e290dbf3-5f99-4b32-b286-391f077cc5c6"
      },
      "execution_count": 15,
      "outputs": [
        {
          "output_type": "stream",
          "name": "stderr",
          "text": [
            "100% (11 of 11) |########################| Elapsed Time: 0:01:34 Time:  0:01:34\n"
          ]
        },
        {
          "output_type": "stream",
          "name": "stdout",
          "text": [
            "R^2: 0.9149\n",
            "sMAPE: 30.7009\n",
            "Accuracy: 0.6930\n"
          ]
        }
      ]
    },
    {
      "cell_type": "code",
      "source": [
        "gam.summary()"
      ],
      "metadata": {
        "colab": {
          "base_uri": "https://localhost:8080/"
        },
        "id": "XooHvkiZcNG0",
        "outputId": "9d14ee45-8e50-4368-d059-3dd06debadf2"
      },
      "execution_count": 16,
      "outputs": [
        {
          "output_type": "stream",
          "name": "stdout",
          "text": [
            "LinearGAM                                                                                                 \n",
            "=============================================== ==========================================================\n",
            "Distribution:                        NormalDist Effective DoF:                                    544.4552\n",
            "Link Function:                     IdentityLink Log Likelihood:                                -67570.1369\n",
            "Number of Samples:                         6281 AIC:                                           136231.1843\n",
            "                                                AICc:                                          136335.1392\n",
            "                                                GCV:                                                0.0409\n",
            "                                                Scale:                                              0.0346\n",
            "                                                Pseudo R-Squared:                                   0.9681\n",
            "==========================================================================================================\n",
            "Feature Function                  Lambda               Rank         EDoF         P > x        Sig. Code   \n",
            "================================= ==================== ============ ============ ============ ============\n",
            "s(0)                              [0.001]              20           19.6         1.11e-16     ***         \n",
            "s(1)                              [0.001]              20           15.2         1.11e-16     ***         \n",
            "s(2)                              [0.001]              20           15.9         1.11e-16     ***         \n",
            "s(3)                              [0.001]              20           17.2         1.70e-03     **          \n",
            "s(4)                              [0.001]              20           18.9         5.44e-02     .           \n",
            "s(5)                              [0.001]              20           8.5          1.11e-16     ***         \n",
            "s(6)                              [0.001]              20           19.1         1.11e-16     ***         \n",
            "s(7)                              [0.001]              20           14.7         1.11e-16     ***         \n",
            "s(8)                              [0.001]              20           9.6          1.11e-16     ***         \n",
            "s(9)                              [0.001]              20           9.2          1.96e-10     ***         \n",
            "s(10)                             [0.001]              20           11.0         1.80e-04     ***         \n",
            "s(11)                             [0.001]              20           14.2         4.47e-05     ***         \n",
            "s(12)                             [0.001]              20           8.6          1.11e-16     ***         \n",
            "s(13)                             [0.001]              20           18.7         1.06e-03     **          \n",
            "s(14)                             [0.001]              20           18.1         3.43e-02     *           \n",
            "s(15)                             [0.001]              20           18.6         1.11e-16     ***         \n",
            "s(16)                             [0.001]              20           17.8         2.47e-04     ***         \n",
            "s(17)                             [0.001]              20           17.1         2.33e-04     ***         \n",
            "s(18)                             [0.001]              20           18.7         1.11e-16     ***         \n",
            "s(19)                             [0.001]              20           17.0         4.32e-05     ***         \n",
            "s(20)                             [0.001]              20           17.6         5.09e-01                 \n",
            "s(21)                             [0.001]              20           16.4         5.53e-03     **          \n",
            "s(22)                             [0.001]              20           12.8         1.38e-12     ***         \n",
            "s(23)                             [0.001]              20           17.2         7.94e-08     ***         \n",
            "s(24)                             [0.001]              20           12.0         1.11e-16     ***         \n",
            "s(25)                             [0.001]              20           7.8          1.11e-16     ***         \n",
            "s(26)                             [0.001]              20           7.9          7.74e-14     ***         \n",
            "s(27)                             [0.001]              20           17.8         5.91e-01                 \n",
            "s(28)                             [0.001]              20           18.5         1.11e-16     ***         \n",
            "s(29)                             [0.001]              20           18.3         1.01e-01                 \n",
            "s(30)                             [0.001]              20           15.6         1.11e-16     ***         \n",
            "s(31)                             [0.001]              20           7.6          2.65e-07     ***         \n",
            "s(32)                             [0.001]              20           13.9         1.11e-16     ***         \n",
            "s(33)                             [0.001]              20           18.2         7.12e-06     ***         \n",
            "s(34)                             [0.001]              20           0.1          3.75e-13     ***         \n",
            "s(35)                             [0.001]              20           17.5         6.27e-01                 \n",
            "s(36)                             [0.001]              20           17.5         8.51e-01                 \n",
            "intercept                                              1            0.0          1.94e-02     *           \n",
            "==========================================================================================================\n",
            "Significance codes:  0 '***' 0.001 '**' 0.01 '*' 0.05 '.' 0.1 ' ' 1\n",
            "\n",
            "WARNING: Fitting splines and a linear function to a feature introduces a model identifiability problem\n",
            "         which can cause p-values to appear significant when they are not.\n",
            "\n",
            "WARNING: p-values calculated in this manner behave correctly for un-penalized models or models with\n",
            "         known smoothing parameters, but when smoothing parameters have been estimated, the p-values\n",
            "         are typically lower than they should be, meaning that the tests reject the null too readily.\n"
          ]
        },
        {
          "output_type": "stream",
          "name": "stderr",
          "text": [
            "<ipython-input-16-dec6a6acdaaa>:1: UserWarning: KNOWN BUG: p-values computed in this summary are likely much smaller than they should be. \n",
            " \n",
            "Please do not make inferences based on these values! \n",
            "\n",
            "Collaborate on a solution, and stay up to date at: \n",
            "github.com/dswah/pyGAM/issues/163 \n",
            "\n",
            "  gam.summary()\n"
          ]
        }
      ]
    },
    {
      "cell_type": "markdown",
      "source": [
        "# 4. Ensemble Methods\n",
        "\n",
        "To improve the accuracy of the model we use different ensemble methods like Bagging and Boosting. We will try to combine multiple models to reduce variance and bias which might lead to better accuracy and performance."
      ],
      "metadata": {
        "id": "tZlVF7PL7N16"
      }
    },
    {
      "cell_type": "markdown",
      "source": [
        "**4.1 Random Forest model**\n",
        "\n",
        "First we implements the Random Forest model by using the *sklearn* library."
      ],
      "metadata": {
        "id": "3kQdvd2c5r7Y"
      }
    },
    {
      "cell_type": "code",
      "source": [
        "rf_model = RandomForestRegressor(n_estimators=100, random_state=42)\n",
        "\n",
        "# Fitting the model\n",
        "rf_model.fit(X_train, y_train)\n",
        "\n",
        "# Predicting on test set\n",
        "rf_y_pred = rf_model.predict(X_test)\n",
        "\n",
        "# Calculating metrics\n",
        "rf_r2 = explained_variance_score(y_test, rf_y_pred)\n",
        "rf_smape_value = smape(y_test, rf_y_pred)\n",
        "rf_accuracy = 1 - rf_smape_value / 100\n",
        "\n",
        "print(f'Random Forest R^2: {rf_r2:.4f}')\n",
        "print(f'Random Forest sMAPE: {rf_smape_value:.4f}')\n",
        "print(f'Random Forest Accuracy: {rf_accuracy:.4f}')"
      ],
      "metadata": {
        "colab": {
          "base_uri": "https://localhost:8080/"
        },
        "id": "x53899kdn-hM",
        "outputId": "333bd823-8381-4594-b586-4e844234f797"
      },
      "execution_count": 17,
      "outputs": [
        {
          "output_type": "stream",
          "name": "stdout",
          "text": [
            "Random Forest R^2: 0.9439\n",
            "Random Forest sMAPE: 33.4198\n",
            "Random Forest Accuracy: 0.6658\n"
          ]
        }
      ]
    },
    {
      "cell_type": "markdown",
      "source": [
        "**4.2 Gradient Boosting model**\n",
        "\n",
        "Then we implements the Gradient Boosting model by using the *sklearn* library."
      ],
      "metadata": {
        "id": "Zgy7-hBU9Jlk"
      }
    },
    {
      "cell_type": "code",
      "source": [
        "gb_model = GradientBoostingRegressor(n_estimators=100, learning_rate=0.1, random_state=42)\n",
        "\n",
        "# Fitting the model\n",
        "gb_model.fit(X_train, y_train)\n",
        "\n",
        "# Predicting on test set\n",
        "gb_y_pred = gb_model.predict(X_test)\n",
        "\n",
        "# Calculating metrics\n",
        "gb_r2 = explained_variance_score(y_test, gb_y_pred)\n",
        "gb_smape_value = smape(y_test, gb_y_pred)\n",
        "gb_accuracy = 1 - gb_smape_value / 100\n",
        "\n",
        "print(f'Gradient Boosting R^2: {gb_r2:.4f}')\n",
        "print(f'Gradient Boosting sMAPE: {gb_smape_value:.4f}')\n",
        "print(f'Gradient Boosting Accuracy: {gb_accuracy:.4f}')"
      ],
      "metadata": {
        "colab": {
          "base_uri": "https://localhost:8080/"
        },
        "id": "w2AswPAJoJeq",
        "outputId": "534abc09-ab3c-48a3-cf12-41816a5cef8b"
      },
      "execution_count": 18,
      "outputs": [
        {
          "output_type": "stream",
          "name": "stdout",
          "text": [
            "Gradient Boosting R^2: 0.9430\n",
            "Gradient Boosting sMAPE: 39.8039\n",
            "Gradient Boosting Accuracy: 0.6020\n"
          ]
        }
      ]
    },
    {
      "cell_type": "markdown",
      "source": [
        "**4.3 xG Boost model**\n",
        "\n",
        "Then we implements the xG Boost model by using the *xgboost* library."
      ],
      "metadata": {
        "id": "KIMYIaWv9_kg"
      }
    },
    {
      "cell_type": "code",
      "source": [
        "xgb_model = xgb.XGBRegressor(n_estimators=100, learning_rate=0.1, random_state=42)\n",
        "\n",
        "# Fitting the model\n",
        "xgb_model.fit(X_train, y_train)\n",
        "\n",
        "# Predicting on test set\n",
        "xgb_y_pred = xgb_model.predict(X_test)\n",
        "\n",
        "# Calculating metrics\n",
        "xgb_r2 = explained_variance_score(y_test, xgb_y_pred)\n",
        "xgb_smape_value = smape(y_test, xgb_y_pred)\n",
        "xgb_accuracy = 1 - xgb_smape_value / 100\n",
        "\n",
        "print(f'XGBoost R^2: {xgb_r2:.4f}')\n",
        "print(f'XGBoost sMAPE: {xgb_smape_value:.4f}')\n",
        "print(f'XGBoost Accuracy: {xgb_accuracy:.4f}')"
      ],
      "metadata": {
        "colab": {
          "base_uri": "https://localhost:8080/"
        },
        "id": "hpyaC9BuoQ2W",
        "outputId": "db777dc6-bb3a-4b31-bad9-ce913cf4fbed"
      },
      "execution_count": 19,
      "outputs": [
        {
          "output_type": "stream",
          "name": "stdout",
          "text": [
            "XGBoost R^2: 0.9625\n",
            "XGBoost sMAPE: 28.7529\n",
            "XGBoost Accuracy: 0.7125\n"
          ]
        }
      ]
    },
    {
      "cell_type": "markdown",
      "source": [
        "# Regularization\n",
        "\n",
        "**Hyper-tuned GAM model**\n",
        "\n",
        "From the evalauation metrics and summary above we can see that our simple GAM model has an accuracy of around *70%*. To make sure that our model is not overfitting we perfrom regularization by assigning a smoothing parameter *(lam=1.0)* to spline terms for each feature instead of a default spline for each feature.\n",
        "\n",
        "The *gridsearch* method optimizes the smoothing parameter which makes the model less likely to overfit."
      ],
      "metadata": {
        "id": "SkvUMLrp07Vw"
      }
    },
    {
      "cell_type": "code",
      "source": [
        "# Dropping categorical features and splitting data\n",
        "X_train, X_test, y_train, y_test = train_test_split(X, y, test_size=0.3, random_state=42)\n",
        "categorical_cols = X_train.select_dtypes(include=['object']).columns\n",
        "X_train = X_train.drop(columns=categorical_cols)\n",
        "X_test = X_test.drop(columns=categorical_cols)\n",
        "\n",
        "# Creating a list of spline terms with a 'smoothing parameter' for each feature\n",
        "terms = [s(i, lam=1.0) for i in range(X_train.shape[1])]\n",
        "\n",
        "# Combining the terms into a TermList\n",
        "gam_terms = reduce(lambda x, y: x + y, terms)\n",
        "\n",
        "# Defining and fitting the GAM model with combined terms\n",
        "gam = LinearGAM(gam_terms).gridsearch(X_train.values, y_train.values)\n",
        "\n",
        "# Predicting on the test set\n",
        "y_pred = gam.predict(X_test)\n",
        "\n",
        "# Calculating the metrics\n",
        "r2_tuning = explained_variance_score(y_test, y_pred)\n",
        "smape_value_tuning = smape(y_test, y_pred)\n",
        "accuracy_tuning = 1 - smape_value / 100\n",
        "\n",
        "print(f'R^2: {r2_tuning:.4f}')\n",
        "print(f'sMAPE: {smape_value_tuning:.4f}')\n",
        "print(f'Accuracy: {accuracy_tuning:.4f}')"
      ],
      "metadata": {
        "colab": {
          "base_uri": "https://localhost:8080/"
        },
        "id": "to1UAB0appAm",
        "outputId": "77ecd26b-2584-4a30-b1db-eb278e0938ab"
      },
      "execution_count": 20,
      "outputs": [
        {
          "output_type": "stream",
          "name": "stderr",
          "text": [
            "100% (11 of 11) |########################| Elapsed Time: 0:01:16 Time:  0:01:16\n"
          ]
        },
        {
          "output_type": "stream",
          "name": "stdout",
          "text": [
            "R^2: 0.9149\n",
            "sMAPE: 30.7009\n",
            "Accuracy: 0.6930\n"
          ]
        }
      ]
    },
    {
      "cell_type": "markdown",
      "source": [
        "**4.4 Combined Hyper-tuned GAM and xG Boost model**\n",
        "\n",
        "From above we can see that simple GAM and hyper-tuner GAM model (regularization) has an accuracy of around 70% and xG Boost model has slightly higher accuracy of around 71.5%. So we combine these models to acheive better accuracy and performance."
      ],
      "metadata": {
        "id": "UyjeDh8I_hH2"
      }
    },
    {
      "cell_type": "code",
      "source": [
        "# Dropping categorical features and splitting data\n",
        "X_train, X_test, y_train, y_test = train_test_split(X, y, test_size=0.3, random_state=42)\n",
        "categorical_cols = X_train.select_dtypes(include=['object']).columns\n",
        "X_train = X_train.drop(columns=categorical_cols)\n",
        "X_test = X_test.drop(columns=categorical_cols)\n",
        "\n",
        "# Creating a list of spline terms with a 'smoothing parameter' for each feature\n",
        "terms = [s(i, lam=1.0) for i in range(X_train.shape[1])]\n",
        "\n",
        "# Combining the terms into a TermList\n",
        "gam_terms = reduce(lambda x, y: x + y, terms)\n",
        "\n",
        "# Defining and fitting the GAM model with combined terms\n",
        "gam = LinearGAM(gam_terms).gridsearch(X_train.values, y_train.values)\n",
        "\n",
        "# Predicting on the training and test set with GAM\n",
        "gam_train_pred = gam.predict(X_train)\n",
        "gam_test_pred = gam.predict(X_test)\n",
        "\n",
        "# Adding GAM predictions as a feature\n",
        "X_train['GAM_Prediction'] = gam_train_pred\n",
        "X_test['GAM_Prediction'] = gam_test_pred\n",
        "\n",
        "# Defining XGBoost model\n",
        "xgb_model = xgb.XGBRegressor(n_estimators=100, learning_rate=0.1, random_state=42)\n",
        "\n",
        "# Fitting the XGBoost model on augmented training data\n",
        "xgb_model.fit(X_train, y_train)\n",
        "\n",
        "# Making predictions\n",
        "xgb_y_pred = xgb_model.predict(X_test)\n",
        "\n",
        "# Calculating metrics\n",
        "combined_r2 = explained_variance_score(y_test, xgb_y_pred)\n",
        "combined_mse = mean_squared_error(y_test, xgb_y_pred)\n",
        "combined_smape_value = smape(y_test, xgb_y_pred)\n",
        "combined_accuracy = 1 - combined_smape_value / 100\n",
        "\n",
        "print(f'Combined Model R^2: {combined_r2:.4f}')\n",
        "print(f'Combined Model MSE: {combined_mse:.4f}')\n",
        "print(f'Combined Model sMAPE: {combined_smape_value:.4f}')\n",
        "print(f'Combined Model Accuracy: {combined_accuracy:.4f}')"
      ],
      "metadata": {
        "colab": {
          "base_uri": "https://localhost:8080/"
        },
        "id": "atROulxCocTw",
        "outputId": "fc4ca48b-993f-43c1-8a79-58890439956f"
      },
      "execution_count": 21,
      "outputs": [
        {
          "output_type": "stream",
          "name": "stderr",
          "text": [
            "100% (11 of 11) |########################| Elapsed Time: 0:01:09 Time:  0:01:09\n"
          ]
        },
        {
          "output_type": "stream",
          "name": "stdout",
          "text": [
            "Combined Model R^2: 0.9584\n",
            "Combined Model MSE: 0.0425\n",
            "Combined Model sMAPE: 24.6507\n",
            "Combined Model Accuracy: 0.7535\n"
          ]
        }
      ]
    },
    {
      "cell_type": "markdown",
      "source": [
        "We compare all the models we have implemented so far based on the evaluation metrics **(R^2, sMAPE and Accuracy)**.\n",
        "\n",
        "We can clearly see that the **Combined GAM and xG Boost Model** increases the accuracy of our model up to **75%**."
      ],
      "metadata": {
        "id": "ZCft92vABF-I"
      }
    },
    {
      "cell_type": "code",
      "source": [
        "model_performance = {\n",
        "    \"Model\": [\"GAM\", \"Random Forest\", \"Gradient Boosting\", \"XGBoost\", \"Hyper-tuned GAM\", \"Combined GAM and XGBoost\"],\n",
        "    \"R2\": [0.9149, 0.9442, 0.9430, 0.9625, 0.9149, 0.9584],\n",
        "    \"sMAPE\": [30.7009, 33.2968, 39.8039, 28.7529, 30.7009, 24.6507],\n",
        "    \"Accuracy\": [0.6930, 0.6670, 0.6020, 0.7125, 0.6930, 0.7535]\n",
        "}\n",
        "\n",
        "df_performance = pd.DataFrame(model_performance)\n",
        "\n",
        "# Plotting the table\n",
        "fig, ax = plt.subplots(figsize=(12, 2))  # Adjust size as needed\n",
        "ax.axis('tight')\n",
        "ax.axis('off')\n",
        "ax.table(cellText=df_performance.values, colLabels=df_performance.columns, loc='center')\n",
        "\n",
        "plt.show()"
      ],
      "metadata": {
        "colab": {
          "base_uri": "https://localhost:8080/",
          "height": 191
        },
        "id": "2N_c8idFtJkS",
        "outputId": "2783f47a-287f-49e7-bd7a-660eb9f50f68"
      },
      "execution_count": 22,
      "outputs": [
        {
          "output_type": "display_data",
          "data": {
            "text/plain": [
              "<Figure size 1200x200 with 1 Axes>"
            ],
            "image/png": "[encoded data removed]"
          },
          "metadata": {}
        }
      ]
    },
    {
      "cell_type": "markdown",
      "source": [
        "**4.5 Model iterations**\n",
        "\n",
        "Now we run 10 iterations of the combined model to find the best, worst and mean for all the evaluation metrics. i.e. R^2, sMAPE and Accuracy which is calculated as (1 - sMAPE / 100)"
      ],
      "metadata": {
        "id": "sKRMhtHlBvvJ"
      }
    },
    {
      "cell_type": "code",
      "source": [
        "# Storing metrics for each iteration\n",
        "r2_scores = []\n",
        "smape_scores = []\n",
        "accuracy_scores = []\n",
        "\n",
        "# Simulating the model 10 times\n",
        "for i in range(10):\n",
        "    # Splitting the data into training and testing sets\n",
        "    X_train, X_test, y_train, y_test = train_test_split(X, y, test_size=0.3, random_state=i)\n",
        "    categorical_cols = X_train.select_dtypes(include=['object']).columns\n",
        "\n",
        "    # Dropping Categorical Features\n",
        "    X_train = X_train.drop(columns=categorical_cols)\n",
        "    X_test = X_test.drop(columns=categorical_cols)\n",
        "\n",
        "    # Fitting the GAM model using a default spline for all features\n",
        "    gam = LinearGAM().gridsearch(X_train.values, y_train.values)\n",
        "\n",
        "    # Predicting on the training and test set with GAM\n",
        "    gam_train_pred = gam.predict(X_train)\n",
        "    gam_test_pred = gam.predict(X_test)\n",
        "\n",
        "    # Adding GAM predictions as a feature\n",
        "    X_train['GAM_Prediction'] = gam_train_pred\n",
        "    X_test['GAM_Prediction'] = gam_test_pred\n",
        "\n",
        "    # Defining XGBoost model\n",
        "    xgb_model = xgb.XGBRegressor(n_estimators=100, learning_rate=0.1, random_state=42)\n",
        "\n",
        "    # Fitting XGBoost model on augmented training data\n",
        "    xgb_model.fit(X_train, y_train)\n",
        "\n",
        "    # Making predictions\n",
        "    xgb_y_pred = xgb_model.predict(X_test)\n",
        "\n",
        "    # Calculating metrics\n",
        "    combined_r2 = explained_variance_score(y_test, xgb_y_pred)\n",
        "    combined_smape_value = smape(y_test, xgb_y_pred)\n",
        "    combined_accuracy = 1 - combined_smape_value / 100\n",
        "\n",
        "    # Appending metrics in lists\n",
        "    r2_scores.append(combined_r2)\n",
        "    smape_scores.append(combined_smape_value)\n",
        "    accuracy_scores.append(combined_accuracy)\n",
        "\n",
        "    print(f\"Iteration {i+1}:\")\n",
        "    print(f\"  R2: {combined_r2}\")\n",
        "    print(f\"  sMAPE: {combined_smape_value}\")\n",
        "    print(f\"  Accuracy: {combined_accuracy}\\n\")\n",
        "\n",
        "# Calculating best, worst, and mean values of the metrics\n",
        "print(\"Best R2:\", max(r2_scores))\n",
        "print(\"Worst R2:\", min(r2_scores))\n",
        "print(\"Mean R2:\", np.mean(r2_scores))\n",
        "print(\"Best sMAPE:\", min(smape_scores))\n",
        "print(\"Worst sMAPE:\", max(smape_scores))\n",
        "print(\"Mean sMAPE:\", np.mean(smape_scores))\n",
        "print(\"Best Accuracy:\", max(accuracy_scores))\n",
        "print(\"Worst Accuracy:\", min(accuracy_scores))\n",
        "print(\"Mean Accuracy:\", np.mean(accuracy_scores))"
      ],
      "metadata": {
        "id": "tLV69C1Ls6-Q",
        "colab": {
          "base_uri": "https://localhost:8080/"
        },
        "outputId": "491813cd-b529-4272-f5fa-9244a9bf5103"
      },
      "execution_count": 23,
      "outputs": [
        {
          "output_type": "stream",
          "name": "stderr",
          "text": [
            "100% (11 of 11) |########################| Elapsed Time: 0:01:07 Time:  0:01:07\n",
            "  0% (0 of 11) |                         | Elapsed Time: 0:00:00 ETA:  --:--:--"
          ]
        },
        {
          "output_type": "stream",
          "name": "stdout",
          "text": [
            "Iteration 1:\n",
            "  R2: 0.922162254512688\n",
            "  sMAPE: 26.163041449990327\n",
            "  Accuracy: 0.7383695855000967\n",
            "\n"
          ]
        },
        {
          "output_type": "stream",
          "name": "stderr",
          "text": [
            "100% (11 of 11) |########################| Elapsed Time: 0:01:20 Time:  0:01:20\n",
            "  0% (0 of 11) |                         | Elapsed Time: 0:00:00 ETA:  --:--:--"
          ]
        },
        {
          "output_type": "stream",
          "name": "stdout",
          "text": [
            "Iteration 2:\n",
            "  R2: 0.9232869564157407\n",
            "  sMAPE: 26.08183251073457\n",
            "  Accuracy: 0.7391816748926543\n",
            "\n"
          ]
        },
        {
          "output_type": "stream",
          "name": "stderr",
          "text": [
            "100% (11 of 11) |########################| Elapsed Time: 0:01:06 Time:  0:01:06\n",
            "  0% (0 of 11) |                         | Elapsed Time: 0:00:00 ETA:  --:--:--"
          ]
        },
        {
          "output_type": "stream",
          "name": "stdout",
          "text": [
            "Iteration 3:\n",
            "  R2: 0.934289370511549\n",
            "  sMAPE: 25.313919629816606\n",
            "  Accuracy: 0.7468608037018339\n",
            "\n"
          ]
        },
        {
          "output_type": "stream",
          "name": "stderr",
          "text": [
            "100% (11 of 11) |########################| Elapsed Time: 0:01:10 Time:  0:01:10\n",
            "  0% (0 of 11) |                         | Elapsed Time: 0:00:00 ETA:  --:--:--"
          ]
        },
        {
          "output_type": "stream",
          "name": "stdout",
          "text": [
            "Iteration 4:\n",
            "  R2: 0.9172214106792241\n",
            "  sMAPE: 27.10870888541732\n",
            "  Accuracy: 0.7289129111458268\n",
            "\n"
          ]
        },
        {
          "output_type": "stream",
          "name": "stderr",
          "text": [
            "100% (11 of 11) |########################| Elapsed Time: 0:01:08 Time:  0:01:08\n",
            "  0% (0 of 11) |                         | Elapsed Time: 0:00:00 ETA:  --:--:--"
          ]
        },
        {
          "output_type": "stream",
          "name": "stdout",
          "text": [
            "Iteration 5:\n",
            "  R2: 0.9358302755067389\n",
            "  sMAPE: 25.37074122993782\n",
            "  Accuracy: 0.7462925877006218\n",
            "\n"
          ]
        },
        {
          "output_type": "stream",
          "name": "stderr",
          "text": [
            "100% (11 of 11) |########################| Elapsed Time: 0:01:09 Time:  0:01:09\n",
            "  0% (0 of 11) |                         | Elapsed Time: 0:00:00 ETA:  --:--:--"
          ]
        },
        {
          "output_type": "stream",
          "name": "stdout",
          "text": [
            "Iteration 6:\n",
            "  R2: 0.9377431874170712\n",
            "  sMAPE: 24.213803298965782\n",
            "  Accuracy: 0.7578619670103421\n",
            "\n"
          ]
        },
        {
          "output_type": "stream",
          "name": "stderr",
          "text": [
            "100% (11 of 11) |########################| Elapsed Time: 0:01:12 Time:  0:01:12\n",
            "  0% (0 of 11) |                         | Elapsed Time: 0:00:00 ETA:  --:--:--"
          ]
        },
        {
          "output_type": "stream",
          "name": "stdout",
          "text": [
            "Iteration 7:\n",
            "  R2: 0.9495736881210639\n",
            "  sMAPE: 24.668830081751818\n",
            "  Accuracy: 0.7533116991824819\n",
            "\n"
          ]
        },
        {
          "output_type": "stream",
          "name": "stderr",
          "text": [
            "100% (11 of 11) |########################| Elapsed Time: 0:01:19 Time:  0:01:19\n",
            "  0% (0 of 11) |                         | Elapsed Time: 0:00:00 ETA:  --:--:--"
          ]
        },
        {
          "output_type": "stream",
          "name": "stdout",
          "text": [
            "Iteration 8:\n",
            "  R2: 0.9240604173733384\n",
            "  sMAPE: 24.94383458986728\n",
            "  Accuracy: 0.7505616541013272\n",
            "\n"
          ]
        },
        {
          "output_type": "stream",
          "name": "stderr",
          "text": [
            "100% (11 of 11) |########################| Elapsed Time: 0:01:08 Time:  0:01:08\n",
            "  0% (0 of 11) |                         | Elapsed Time: 0:00:00 ETA:  --:--:--"
          ]
        },
        {
          "output_type": "stream",
          "name": "stdout",
          "text": [
            "Iteration 9:\n",
            "  R2: 0.9276544713948239\n",
            "  sMAPE: 26.310541286030283\n",
            "  Accuracy: 0.7368945871396972\n",
            "\n"
          ]
        },
        {
          "output_type": "stream",
          "name": "stderr",
          "text": [
            "100% (11 of 11) |########################| Elapsed Time: 0:01:08 Time:  0:01:08\n"
          ]
        },
        {
          "output_type": "stream",
          "name": "stdout",
          "text": [
            "Iteration 10:\n",
            "  R2: 0.9333502528847041\n",
            "  sMAPE: 26.264064414273225\n",
            "  Accuracy: 0.7373593558572678\n",
            "\n",
            "Best R2: 0.9495736881210639\n",
            "Worst R2: 0.9172214106792241\n",
            "Mean R2: 0.9305172284816943\n",
            "Best sMAPE: 24.213803298965782\n",
            "Worst sMAPE: 27.10870888541732\n",
            "Mean sMAPE: 25.643931737678503\n",
            "Best Accuracy: 0.7578619670103421\n",
            "Worst Accuracy: 0.7289129111458268\n",
            "Mean Accuracy: 0.743560682623215\n"
          ]
        }
      ]
    },
    {
      "cell_type": "markdown",
      "source": [
        "# 5. Visualizations\n",
        "\n",
        "Below are the plots to visualize the perfromance of our Combined hyper-tuned GAM and xG Boost model.\n",
        "\n",
        "**5.1 Actual vs Predicted Scatter Plot**"
      ],
      "metadata": {
        "id": "I3CnKDipC5_B"
      }
    },
    {
      "cell_type": "code",
      "source": [
        "plt.figure(figsize=(10, 6))\n",
        "plt.scatter(y_test, xgb_y_pred, alpha=0.5)\n",
        "plt.plot([y_test.min(), y_test.max()], [y_test.min(), y_test.max()], 'k--', lw=2)\n",
        "plt.xlabel('Actual Values')\n",
        "plt.ylabel('Predicted Values')\n",
        "plt.title('Actual vs. Predicted Values')\n",
        "plt.show()"
      ],
      "metadata": {
        "id": "Ixc2qGlk28of",
        "colab": {
          "base_uri": "https://localhost:8080/",
          "height": 564
        },
        "outputId": "79d88205-9c99-4f4e-f417-b6ddef1c0703"
      },
      "execution_count": 24,
      "outputs": [
        {
          "output_type": "display_data",
          "data": {
            "text/plain": [
              "<Figure size 1000x600 with 1 Axes>"
            ],
            "image/png": "[encoded data removed]"
          },
          "metadata": {}
        }
      ]
    },
    {
      "cell_type": "markdown",
      "source": [
        "**5.2 Density Plot**"
      ],
      "metadata": {
        "id": "Veu49kgvDQja"
      }
    },
    {
      "cell_type": "code",
      "source": [
        "plt.figure(figsize=(10, 6))\n",
        "sns.kdeplot(xgb_y_pred, label='Predicted Values', shade=True)\n",
        "sns.kdeplot(y_test, label='Actual Values', shade=True)\n",
        "plt.title('Density Plot of Predicted vs Actual Values')\n",
        "plt.xlabel('TOC (mg/l C)')\n",
        "plt.ylabel('Density')\n",
        "plt.legend()\n",
        "plt.show()"
      ],
      "metadata": {
        "id": "qNitSe3i3AYZ",
        "colab": {
          "base_uri": "https://localhost:8080/",
          "height": 772
        },
        "outputId": "aed84a14-fdda-4839-dcd1-7f88398e700b"
      },
      "execution_count": 25,
      "outputs": [
        {
          "output_type": "stream",
          "name": "stderr",
          "text": [
            "<ipython-input-25-001fd7a05eca>:2: FutureWarning: \n",
            "\n",
            "`shade` is now deprecated in favor of `fill`; setting `fill=True`.\n",
            "This will become an error in seaborn v0.14.0; please update your code.\n",
            "\n",
            "  sns.kdeplot(xgb_y_pred, label='Predicted Values', shade=True)\n",
            "<ipython-input-25-001fd7a05eca>:3: FutureWarning: \n",
            "\n",
            "`shade` is now deprecated in favor of `fill`; setting `fill=True`.\n",
            "This will become an error in seaborn v0.14.0; please update your code.\n",
            "\n",
            "  sns.kdeplot(y_test, label='Actual Values', shade=True)\n"
          ]
        },
        {
          "output_type": "display_data",
          "data": {
            "text/plain": [
              "<Figure size 1000x600 with 1 Axes>"
            ],
            "image/png": "[encoded data removed]"
          },
          "metadata": {}
        }
      ]
    },
    {
      "cell_type": "markdown",
      "source": [
        "# Conclusion\n",
        "\n",
        "We initially started with implementation of Generalized Additive Model (GAM) to predict the TOC for our combined lakes dataset (Lake chemistry, Hydrology, Weather, Landscape). Initially our model performed with an accuracy of around **70%** but with the help of techniques like regularization, ensemble methods (bagging, boosting, models combination) we managed to acheieve an accuracy around **75%**, which is significantly better in the context of our scaenario."
      ],
      "metadata": {
        "id": "BzkcPWpPDxIW"
      }
    }
  ]
}