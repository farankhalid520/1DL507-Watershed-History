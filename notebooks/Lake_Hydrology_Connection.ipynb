{
  "nbformat": 4,
  "nbformat_minor": 0,
  "metadata": {
    "colab": {
      "provenance": []
    },
    "kernelspec": {
      "name": "python3",
      "display_name": "Python 3"
    },
    "language_info": {
      "name": "python"
    }
  },
  "cells": [
    {
      "cell_type": "code",
      "execution_count": 5,
      "metadata": {
        "id": "ZEBbjS0O9k8L"
      },
      "outputs": [],
      "source": [
        "import pandas as pd\n",
        "import os\n",
        "\n",
        "file_path1 = '/content/drive/MyDrive/data/Sjöinformation.csv'  # Sjöinformation file\n",
        "file_path2 = '/content/drive/MyDrive/data/Trend Lakes Stn.csv' # Trend Lakes file\n",
        "folder_path = '/content/drive/MyDrive/data' #output folder path"
      ]
    },
    {
      "cell_type": "code",
      "source": [
        "def merge_and_save_csv(file_path1, file_path2, folder_path):\n",
        "    try:\n",
        "        # Reading the first file with ISO-8859-1 encoding\n",
        "        df1 = pd.read_csv(file_path1, encoding='ISO-8859-1')\n",
        "\n",
        "        # Reading the second file\n",
        "        df2 = pd.read_csv(file_path2)\n",
        "\n",
        "        # Merging the datasets on the equivalent columns (SMHI-ID and Sjö-id)\n",
        "        merged_df = pd.merge(df2, df1, left_on='SMHI-ID', right_on='Sjö-id')\n",
        "\n",
        "        # Selecting the required columns\n",
        "        result_df = merged_df[['MD-MVM Id', 'SMHI-ID', 'SUBID', 'AROID']]\n",
        "\n",
        "        # Constructing the full path for the output file\n",
        "        output_file_path = os.path.join(folder_path, 'Lake_Hydrology_Connection.csv')\n",
        "\n",
        "        # Saving the result to a CSV file\n",
        "        result_df.to_csv(output_file_path, index=False)\n",
        "        print(f\"File saved successfully at {output_file_path}\")\n",
        "\n",
        "    except Exception as e:\n",
        "        print(f\"An error occurred: {e}\")\n",
        "\n",
        "\n",
        "merge_and_save_csv(file_path1, file_path2, folder_path)"
      ],
      "metadata": {
        "colab": {
          "base_uri": "https://localhost:8080/"
        },
        "id": "jHWkN3dB9qdq",
        "outputId": "e29eb7b7-cd18-422b-a01e-4ab5231bb23d"
      },
      "execution_count": 6,
      "outputs": [
        {
          "output_type": "stream",
          "name": "stdout",
          "text": [
            "File saved successfully at /content/drive/MyDrive/data/Lake_Hydrology_Connection.csv\n"
          ]
        }
      ]
    }
  ]
}